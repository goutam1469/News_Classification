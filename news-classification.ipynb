{
 "cells": [
  {
   "cell_type": "code",
   "execution_count": 1,
   "id": "6bf79fbe",
   "metadata": {
    "_cell_guid": "b1076dfc-b9ad-4769-8c92-a6c4dae69d19",
    "_uuid": "8f2839f25d086af736a60e9eeb907d3b93b6e0e5",
    "execution": {
     "iopub.execute_input": "2024-04-22T12:34:21.354867Z",
     "iopub.status.busy": "2024-04-22T12:34:21.354403Z",
     "iopub.status.idle": "2024-04-22T12:34:22.305528Z",
     "shell.execute_reply": "2024-04-22T12:34:22.304095Z"
    },
    "papermill": {
     "duration": 0.968856,
     "end_time": "2024-04-22T12:34:22.308229",
     "exception": false,
     "start_time": "2024-04-22T12:34:21.339373",
     "status": "completed"
    },
    "tags": []
   },
   "outputs": [
    {
     "name": "stdout",
     "output_type": "stream",
     "text": [
      "/kaggle/input/bbc-full-text-document-classification/bbc_data.csv\n"
     ]
    }
   ],
   "source": [
    "# This Python 3 environment comes with many helpful analytics libraries installed\n",
    "# It is defined by the kaggle/python Docker image: https://github.com/kaggle/docker-python\n",
    "# For example, here's several helpful packages to load\n",
    "\n",
    "import numpy as np # linear algebra\n",
    "import pandas as pd # data processing, CSV file I/O (e.g. pd.read_csv)\n",
    "\n",
    "# Input data files are available in the read-only \"../input/\" directory\n",
    "# For example, running this (by clicking run or pressing Shift+Enter) will list all files under the input directory\n",
    "\n",
    "import os\n",
    "for dirname, _, filenames in os.walk('/kaggle/input'):\n",
    "    for filename in filenames:\n",
    "        print(os.path.join(dirname, filename))\n",
    "\n",
    "# You can write up to 20GB to the current directory (/kaggle/working/) that gets preserved as output when you create a version using \"Save & Run All\" \n",
    "# You can also write temporary files to /kaggle/temp/, but they won't be saved outside of the current session"
   ]
  },
  {
   "cell_type": "code",
   "execution_count": 2,
   "id": "4c15d6cb",
   "metadata": {
    "execution": {
     "iopub.execute_input": "2024-04-22T12:34:22.334999Z",
     "iopub.status.busy": "2024-04-22T12:34:22.334329Z",
     "iopub.status.idle": "2024-04-22T12:34:22.462422Z",
     "shell.execute_reply": "2024-04-22T12:34:22.461152Z"
    },
    "papermill": {
     "duration": 0.144293,
     "end_time": "2024-04-22T12:34:22.464984",
     "exception": false,
     "start_time": "2024-04-22T12:34:22.320691",
     "status": "completed"
    },
    "tags": []
   },
   "outputs": [
    {
     "data": {
      "text/html": [
       "<div>\n",
       "<style scoped>\n",
       "    .dataframe tbody tr th:only-of-type {\n",
       "        vertical-align: middle;\n",
       "    }\n",
       "\n",
       "    .dataframe tbody tr th {\n",
       "        vertical-align: top;\n",
       "    }\n",
       "\n",
       "    .dataframe thead th {\n",
       "        text-align: right;\n",
       "    }\n",
       "</style>\n",
       "<table border=\"1\" class=\"dataframe\">\n",
       "  <thead>\n",
       "    <tr style=\"text-align: right;\">\n",
       "      <th></th>\n",
       "      <th>data</th>\n",
       "      <th>labels</th>\n",
       "    </tr>\n",
       "  </thead>\n",
       "  <tbody>\n",
       "    <tr>\n",
       "      <th>0</th>\n",
       "      <td>Musicians to tackle US red tape  Musicians gro...</td>\n",
       "      <td>entertainment</td>\n",
       "    </tr>\n",
       "    <tr>\n",
       "      <th>1</th>\n",
       "      <td>U2s desire to be number one  U2, who have won ...</td>\n",
       "      <td>entertainment</td>\n",
       "    </tr>\n",
       "    <tr>\n",
       "      <th>2</th>\n",
       "      <td>Rocker Doherty in on-stage fight  Rock singer ...</td>\n",
       "      <td>entertainment</td>\n",
       "    </tr>\n",
       "    <tr>\n",
       "      <th>3</th>\n",
       "      <td>Snicket tops US box office chart  The film ada...</td>\n",
       "      <td>entertainment</td>\n",
       "    </tr>\n",
       "    <tr>\n",
       "      <th>4</th>\n",
       "      <td>Oceans Twelve raids box office  Oceans Twelve,...</td>\n",
       "      <td>entertainment</td>\n",
       "    </tr>\n",
       "  </tbody>\n",
       "</table>\n",
       "</div>"
      ],
      "text/plain": [
       "                                                data         labels\n",
       "0  Musicians to tackle US red tape  Musicians gro...  entertainment\n",
       "1  U2s desire to be number one  U2, who have won ...  entertainment\n",
       "2  Rocker Doherty in on-stage fight  Rock singer ...  entertainment\n",
       "3  Snicket tops US box office chart  The film ada...  entertainment\n",
       "4  Oceans Twelve raids box office  Oceans Twelve,...  entertainment"
      ]
     },
     "execution_count": 2,
     "metadata": {},
     "output_type": "execute_result"
    }
   ],
   "source": [
    "df = pd.read_csv('/kaggle/input/bbc-full-text-document-classification/bbc_data.csv')\n",
    "df.head()"
   ]
  },
  {
   "cell_type": "code",
   "execution_count": 3,
   "id": "3ca26f1d",
   "metadata": {
    "execution": {
     "iopub.execute_input": "2024-04-22T12:34:22.493223Z",
     "iopub.status.busy": "2024-04-22T12:34:22.492765Z",
     "iopub.status.idle": "2024-04-22T12:34:25.392354Z",
     "shell.execute_reply": "2024-04-22T12:34:25.391102Z"
    },
    "papermill": {
     "duration": 2.917668,
     "end_time": "2024-04-22T12:34:25.395297",
     "exception": false,
     "start_time": "2024-04-22T12:34:22.477629",
     "status": "completed"
    },
    "tags": []
   },
   "outputs": [],
   "source": [
    "import pickle\n",
    "from collections import Counter\n",
    "import matplotlib.pyplot as plt\n",
    "import seaborn as sns\n",
    "\n",
    "import nltk\n",
    "from nltk.corpus import stopwords\n",
    "from nltk.stem import PorterStemmer, LancasterStemmer\n",
    "from nltk.tokenize import sent_tokenize, word_tokenize, RegexpTokenizer\n",
    "\n",
    "from sklearn.metrics import accuracy_score\n",
    "from sklearn.linear_model import LogisticRegression\n",
    "from sklearn.model_selection import train_test_split\n",
    "from sklearn.feature_extraction.text import CountVectorizer, TfidfVectorizer\n",
    "from category_encoders import OneHotEncoder\n",
    "\n",
    "%matplotlib inline"
   ]
  },
  {
   "cell_type": "code",
   "execution_count": 4,
   "id": "16970773",
   "metadata": {
    "execution": {
     "iopub.execute_input": "2024-04-22T12:34:25.422321Z",
     "iopub.status.busy": "2024-04-22T12:34:25.421755Z",
     "iopub.status.idle": "2024-04-22T12:34:25.430831Z",
     "shell.execute_reply": "2024-04-22T12:34:25.429639Z"
    },
    "papermill": {
     "duration": 0.025036,
     "end_time": "2024-04-22T12:34:25.432930",
     "exception": false,
     "start_time": "2024-04-22T12:34:25.407894",
     "status": "completed"
    },
    "tags": []
   },
   "outputs": [
    {
     "data": {
      "text/plain": [
       "'Musicians to tackle US red tape  Musicians groups are to tackle US visa regulations which are blamed for hindering British acts chances of succeeding across the Atlantic.  A singer hoping to perform in the US can expect to pay $1,300 (xc2xa3680) simply for obtaining a visa. Groups including the Musicians Union are calling for an end to the \"raw deal\" faced by British performers. US acts are not faced with comparable expense and bureaucracy when visiting the UK for promotional purposes.  Nigel McCune from the Musicians Union said British musicians are \"disadvantaged\" compared to their US counterparts. A sponsor has to make a petition on their behalf, which is a form amounting to nearly 30 pages, while musicians face tougher regulations than athletes and journalists. \"If you make a mistake on your form, you risk a five-year ban and thus the ability to further your career,\" says Mr McCune.  \"The US is the worlds biggest music market, which means something has to be done about the creaky bureaucracy,\" says Mr McCune. \"The current situation is preventing British acts from maintaining momentum and developing in the US,\" he added.  The Musicians Union stance is being endorsed by the Music Managers Forum (MMF), who say British artists face \"an uphill struggle\" to succeed in the US, thanks to the tough visa requirements, which are also seen as impractical. The MMFs general secretary James Seller said: \"Imagine if you were an orchestra from the Orkneys? Every member would have to travel to London to have their visas processed.\"  \"The US market is seen as the holy grail and one of the benchmarks of success, and were still going to fight to get in there. \"Its still very important, but there are other markets like Europe, India and China,\" added Mr Seller. A Department for Media, Culture and Sport spokeswoman said: \"Were aware that people are experiencing problems, and are working with the US embassy and record industry to see what we can do about it.\" A US Embassy spokesman said: \"We are aware that entertainers require visas for time-specific visas and are doing everything we can to process those applications speedily.\" \"We are aware of the importance of cultural exchange and we will do our best to facilitate that,\" he added. '"
      ]
     },
     "execution_count": 4,
     "metadata": {},
     "output_type": "execute_result"
    }
   ],
   "source": [
    "\n",
    "df.loc[0,'data']"
   ]
  },
  {
   "cell_type": "code",
   "execution_count": 5,
   "id": "31b8ee6b",
   "metadata": {
    "execution": {
     "iopub.execute_input": "2024-04-22T12:34:25.459003Z",
     "iopub.status.busy": "2024-04-22T12:34:25.458564Z",
     "iopub.status.idle": "2024-04-22T12:34:25.469698Z",
     "shell.execute_reply": "2024-04-22T12:34:25.468573Z"
    },
    "papermill": {
     "duration": 0.026764,
     "end_time": "2024-04-22T12:34:25.471888",
     "exception": false,
     "start_time": "2024-04-22T12:34:25.445124",
     "status": "completed"
    },
    "tags": []
   },
   "outputs": [
    {
     "data": {
      "text/plain": [
       "array(['entertainment', 'business', 'sport', 'politics', 'tech'],\n",
       "      dtype=object)"
      ]
     },
     "execution_count": 5,
     "metadata": {},
     "output_type": "execute_result"
    }
   ],
   "source": [
    "df['labels'].unique()"
   ]
  },
  {
   "cell_type": "code",
   "execution_count": 6,
   "id": "3ca1569a",
   "metadata": {
    "execution": {
     "iopub.execute_input": "2024-04-22T12:34:25.500013Z",
     "iopub.status.busy": "2024-04-22T12:34:25.499091Z",
     "iopub.status.idle": "2024-04-22T12:34:25.732712Z",
     "shell.execute_reply": "2024-04-22T12:34:25.730253Z"
    },
    "papermill": {
     "duration": 0.252526,
     "end_time": "2024-04-22T12:34:25.736782",
     "exception": false,
     "start_time": "2024-04-22T12:34:25.484256",
     "status": "completed"
    },
    "tags": []
   },
   "outputs": [
    {
     "data": {
      "image/png": "[encoded data removed]",
      "text/plain": [
       "<Figure size 640x480 with 1 Axes>"
      ]
     },
     "metadata": {},
     "output_type": "display_data"
    }
   ],
   "source": [
    "sns.countplot(x = 'labels',data = df)\n",
    "plt.show()"
   ]
  },
  {
   "cell_type": "code",
   "execution_count": 7,
   "id": "861acfb0",
   "metadata": {
    "execution": {
     "iopub.execute_input": "2024-04-22T12:34:25.773439Z",
     "iopub.status.busy": "2024-04-22T12:34:25.772082Z",
     "iopub.status.idle": "2024-04-22T12:34:25.782718Z",
     "shell.execute_reply": "2024-04-22T12:34:25.781318Z"
    },
    "papermill": {
     "duration": 0.030618,
     "end_time": "2024-04-22T12:34:25.785489",
     "exception": false,
     "start_time": "2024-04-22T12:34:25.754871",
     "status": "completed"
    },
    "tags": []
   },
   "outputs": [],
   "source": [
    "df[\"len\"] = df['data'].apply(len)\n",
    "\n"
   ]
  },
  {
   "cell_type": "code",
   "execution_count": 8,
   "id": "ec800f2f",
   "metadata": {
    "execution": {
     "iopub.execute_input": "2024-04-22T12:34:25.816307Z",
     "iopub.status.busy": "2024-04-22T12:34:25.815562Z",
     "iopub.status.idle": "2024-04-22T12:34:26.327086Z",
     "shell.execute_reply": "2024-04-22T12:34:26.325926Z"
    },
    "papermill": {
     "duration": 0.528209,
     "end_time": "2024-04-22T12:34:26.329859",
     "exception": false,
     "start_time": "2024-04-22T12:34:25.801650",
     "status": "completed"
    },
    "tags": []
   },
   "outputs": [
    {
     "name": "stderr",
     "output_type": "stream",
     "text": [
      "/opt/conda/lib/python3.10/site-packages/seaborn/_oldcore.py:1119: FutureWarning: use_inf_as_na option is deprecated and will be removed in a future version. Convert inf values to NaN before operating instead.\n",
      "  with pd.option_context('mode.use_inf_as_na', True):\n"
     ]
    },
    {
     "data": {
      "image/png": "[encoded data removed]",
      "text/plain": [
       "<Figure size 500x500 with 1 Axes>"
      ]
     },
     "metadata": {},
     "output_type": "display_data"
    }
   ],
   "source": [
    "sns.displot(x = 'len', data = df)\n",
    "plt.show()"
   ]
  },
  {
   "cell_type": "code",
   "execution_count": 9,
   "id": "2a6c1345",
   "metadata": {
    "execution": {
     "iopub.execute_input": "2024-04-22T12:34:26.358901Z",
     "iopub.status.busy": "2024-04-22T12:34:26.358410Z",
     "iopub.status.idle": "2024-04-22T12:34:26.370305Z",
     "shell.execute_reply": "2024-04-22T12:34:26.369374Z"
    },
    "papermill": {
     "duration": 0.02875,
     "end_time": "2024-04-22T12:34:26.372350",
     "exception": false,
     "start_time": "2024-04-22T12:34:26.343600",
     "status": "completed"
    },
    "tags": []
   },
   "outputs": [
    {
     "data": {
      "text/html": [
       "<div>\n",
       "<style scoped>\n",
       "    .dataframe tbody tr th:only-of-type {\n",
       "        vertical-align: middle;\n",
       "    }\n",
       "\n",
       "    .dataframe tbody tr th {\n",
       "        vertical-align: top;\n",
       "    }\n",
       "\n",
       "    .dataframe thead th {\n",
       "        text-align: right;\n",
       "    }\n",
       "</style>\n",
       "<table border=\"1\" class=\"dataframe\">\n",
       "  <thead>\n",
       "    <tr style=\"text-align: right;\">\n",
       "      <th></th>\n",
       "      <th>data</th>\n",
       "      <th>labels</th>\n",
       "      <th>len</th>\n",
       "    </tr>\n",
       "  </thead>\n",
       "  <tbody>\n",
       "    <tr>\n",
       "      <th>0</th>\n",
       "      <td>Musicians to tackle US red tape  Musicians gro...</td>\n",
       "      <td>entertainment</td>\n",
       "      <td>2254</td>\n",
       "    </tr>\n",
       "    <tr>\n",
       "      <th>1</th>\n",
       "      <td>U2s desire to be number one  U2, who have won ...</td>\n",
       "      <td>entertainment</td>\n",
       "      <td>4799</td>\n",
       "    </tr>\n",
       "    <tr>\n",
       "      <th>2</th>\n",
       "      <td>Rocker Doherty in on-stage fight  Rock singer ...</td>\n",
       "      <td>entertainment</td>\n",
       "      <td>2125</td>\n",
       "    </tr>\n",
       "    <tr>\n",
       "      <th>3</th>\n",
       "      <td>Snicket tops US box office chart  The film ada...</td>\n",
       "      <td>entertainment</td>\n",
       "      <td>1052</td>\n",
       "    </tr>\n",
       "    <tr>\n",
       "      <th>4</th>\n",
       "      <td>Oceans Twelve raids box office  Oceans Twelve,...</td>\n",
       "      <td>entertainment</td>\n",
       "      <td>1598</td>\n",
       "    </tr>\n",
       "  </tbody>\n",
       "</table>\n",
       "</div>"
      ],
      "text/plain": [
       "                                                data         labels   len\n",
       "0  Musicians to tackle US red tape  Musicians gro...  entertainment  2254\n",
       "1  U2s desire to be number one  U2, who have won ...  entertainment  4799\n",
       "2  Rocker Doherty in on-stage fight  Rock singer ...  entertainment  2125\n",
       "3  Snicket tops US box office chart  The film ada...  entertainment  1052\n",
       "4  Oceans Twelve raids box office  Oceans Twelve,...  entertainment  1598"
      ]
     },
     "execution_count": 9,
     "metadata": {},
     "output_type": "execute_result"
    }
   ],
   "source": [
    "df.head()"
   ]
  },
  {
   "cell_type": "code",
   "execution_count": 10,
   "id": "6f0e718f",
   "metadata": {
    "execution": {
     "iopub.execute_input": "2024-04-22T12:34:26.401534Z",
     "iopub.status.busy": "2024-04-22T12:34:26.400696Z",
     "iopub.status.idle": "2024-04-22T12:34:26.420842Z",
     "shell.execute_reply": "2024-04-22T12:34:26.420021Z"
    },
    "papermill": {
     "duration": 0.037213,
     "end_time": "2024-04-22T12:34:26.423141",
     "exception": false,
     "start_time": "2024-04-22T12:34:26.385928",
     "status": "completed"
    },
    "tags": []
   },
   "outputs": [
    {
     "data": {
      "text/plain": [
       "['Musicians to tackle US red tape  Musicians groups are to tackle US visa regulations which are blamed for hindering British acts chances of succeeding across the Atlantic.',\n",
       " 'A singer hoping to perform in the US can expect to pay $1,300 (xc2xa3680) simply for obtaining a visa.',\n",
       " 'Groups including the Musicians Union are calling for an end to the \"raw deal\" faced by British performers.',\n",
       " 'US acts are not faced with comparable expense and bureaucracy when visiting the UK for promotional purposes.',\n",
       " 'Nigel McCune from the Musicians Union said British musicians are \"disadvantaged\" compared to their US counterparts.',\n",
       " 'A sponsor has to make a petition on their behalf, which is a form amounting to nearly 30 pages, while musicians face tougher regulations than athletes and journalists.',\n",
       " '\"If you make a mistake on your form, you risk a five-year ban and thus the ability to further your career,\" says Mr McCune.',\n",
       " '\"The US is the worlds biggest music market, which means something has to be done about the creaky bureaucracy,\" says Mr McCune.',\n",
       " '\"The current situation is preventing British acts from maintaining momentum and developing in the US,\" he added.',\n",
       " 'The Musicians Union stance is being endorsed by the Music Managers Forum (MMF), who say British artists face \"an uphill struggle\" to succeed in the US, thanks to the tough visa requirements, which are also seen as impractical.',\n",
       " 'The MMFs general secretary James Seller said: \"Imagine if you were an orchestra from the Orkneys?',\n",
       " 'Every member would have to travel to London to have their visas processed.\"',\n",
       " '\"The US market is seen as the holy grail and one of the benchmarks of success, and were still going to fight to get in there.',\n",
       " '\"Its still very important, but there are other markets like Europe, India and China,\" added Mr Seller.',\n",
       " 'A Department for Media, Culture and Sport spokeswoman said: \"Were aware that people are experiencing problems, and are working with the US embassy and record industry to see what we can do about it.\"',\n",
       " 'A US Embassy spokesman said: \"We are aware that entertainers require visas for time-specific visas and are doing everything we can to process those applications speedily.\"',\n",
       " '\"We are aware of the importance of cultural exchange and we will do our best to facilitate that,\" he added.']"
      ]
     },
     "execution_count": 10,
     "metadata": {},
     "output_type": "execute_result"
    }
   ],
   "source": [
    "sent_tokenize(df.loc[0,'data'])"
   ]
  },
  {
   "cell_type": "code",
   "execution_count": 11,
   "id": "40646c09",
   "metadata": {
    "execution": {
     "iopub.execute_input": "2024-04-22T12:34:26.453095Z",
     "iopub.status.busy": "2024-04-22T12:34:26.452156Z",
     "iopub.status.idle": "2024-04-22T12:34:26.458966Z",
     "shell.execute_reply": "2024-04-22T12:34:26.457949Z"
    },
    "papermill": {
     "duration": 0.023816,
     "end_time": "2024-04-22T12:34:26.460980",
     "exception": false,
     "start_time": "2024-04-22T12:34:26.437164",
     "status": "completed"
    },
    "tags": []
   },
   "outputs": [
    {
     "data": {
      "text/plain": [
       "'musicians to tackle us red tape  musicians groups are to tackle us visa regulations which are blamed for hindering british acts chances of succeeding across the atlantic.  a singer hoping to perform in the us can expect to pay $1,300 (xc2xa3680) simply for obtaining a visa. groups including the musicians union are calling for an end to the \"raw deal\" faced by british performers. us acts are not faced with comparable expense and bureaucracy when visiting the uk for promotional purposes.  nigel mccune from the musicians union said british musicians are \"disadvantaged\" compared to their us counterparts. a sponsor has to make a petition on their behalf, which is a form amounting to nearly 30 pages, while musicians face tougher regulations than athletes and journalists. \"if you make a mistake on your form, you risk a five-year ban and thus the ability to further your career,\" says mr mccune.  \"the us is the worlds biggest music market, which means something has to be done about the creaky bureaucracy,\" says mr mccune. \"the current situation is preventing british acts from maintaining momentum and developing in the us,\" he added.  the musicians union stance is being endorsed by the music managers forum (mmf), who say british artists face \"an uphill struggle\" to succeed in the us, thanks to the tough visa requirements, which are also seen as impractical. the mmfs general secretary james seller said: \"imagine if you were an orchestra from the orkneys? every member would have to travel to london to have their visas processed.\"  \"the us market is seen as the holy grail and one of the benchmarks of success, and were still going to fight to get in there. \"its still very important, but there are other markets like europe, india and china,\" added mr seller. a department for media, culture and sport spokeswoman said: \"were aware that people are experiencing problems, and are working with the us embassy and record industry to see what we can do about it.\" a us embassy spokesman said: \"we are aware that entertainers require visas for time-specific visas and are doing everything we can to process those applications speedily.\" \"we are aware of the importance of cultural exchange and we will do our best to facilitate that,\" he added. '"
      ]
     },
     "execution_count": 11,
     "metadata": {},
     "output_type": "execute_result"
    }
   ],
   "source": [
    "df.loc[0,'data'].lower()"
   ]
  },
  {
   "cell_type": "code",
   "execution_count": 12,
   "id": "508f1078",
   "metadata": {
    "execution": {
     "iopub.execute_input": "2024-04-22T12:34:26.490827Z",
     "iopub.status.busy": "2024-04-22T12:34:26.490363Z",
     "iopub.status.idle": "2024-04-22T12:34:26.495905Z",
     "shell.execute_reply": "2024-04-22T12:34:26.494455Z"
    },
    "papermill": {
     "duration": 0.023499,
     "end_time": "2024-04-22T12:34:26.498282",
     "exception": false,
     "start_time": "2024-04-22T12:34:26.474783",
     "status": "completed"
    },
    "tags": []
   },
   "outputs": [],
   "source": [
    "data = list(df['data'])"
   ]
  },
  {
   "cell_type": "code",
   "execution_count": null,
   "id": "fe5ba2b6",
   "metadata": {
    "papermill": {
     "duration": 0.013843,
     "end_time": "2024-04-22T12:34:26.525982",
     "exception": false,
     "start_time": "2024-04-22T12:34:26.512139",
     "status": "completed"
    },
    "tags": []
   },
   "outputs": [],
   "source": []
  },
  {
   "cell_type": "code",
   "execution_count": 13,
   "id": "9f20840f",
   "metadata": {
    "execution": {
     "iopub.execute_input": "2024-04-22T12:34:26.557197Z",
     "iopub.status.busy": "2024-04-22T12:34:26.556215Z",
     "iopub.status.idle": "2024-04-22T12:34:26.566348Z",
     "shell.execute_reply": "2024-04-22T12:34:26.565028Z"
    },
    "papermill": {
     "duration": 0.028065,
     "end_time": "2024-04-22T12:34:26.568672",
     "exception": false,
     "start_time": "2024-04-22T12:34:26.540607",
     "status": "completed"
    },
    "tags": []
   },
   "outputs": [],
   "source": [
    "data_lower = [a.lower() for a in data]"
   ]
  },
  {
   "cell_type": "code",
   "execution_count": 14,
   "id": "7a454c1d",
   "metadata": {
    "execution": {
     "iopub.execute_input": "2024-04-22T12:34:26.597575Z",
     "iopub.status.busy": "2024-04-22T12:34:26.597106Z",
     "iopub.status.idle": "2024-04-22T12:34:33.445279Z",
     "shell.execute_reply": "2024-04-22T12:34:33.444115Z"
    },
    "papermill": {
     "duration": 6.866013,
     "end_time": "2024-04-22T12:34:33.448136",
     "exception": false,
     "start_time": "2024-04-22T12:34:26.582123",
     "status": "completed"
    },
    "tags": []
   },
   "outputs": [],
   "source": [
    "tokens = [word_tokenize(a) for a in data_lower]"
   ]
  },
  {
   "cell_type": "code",
   "execution_count": 15,
   "id": "85a4b32b",
   "metadata": {
    "execution": {
     "iopub.execute_input": "2024-04-22T12:34:33.479170Z",
     "iopub.status.busy": "2024-04-22T12:34:33.478242Z",
     "iopub.status.idle": "2024-04-22T12:34:33.491557Z",
     "shell.execute_reply": "2024-04-22T12:34:33.490645Z"
    },
    "papermill": {
     "duration": 0.031453,
     "end_time": "2024-04-22T12:34:33.493881",
     "exception": false,
     "start_time": "2024-04-22T12:34:33.462428",
     "status": "completed"
    },
    "tags": []
   },
   "outputs": [
    {
     "data": {
      "text/plain": [
       "['i', 'me', 'my', 'myself', 'we', 'our', 'ours', 'ourselves', 'you', \"you're\"]"
      ]
     },
     "execution_count": 15,
     "metadata": {},
     "output_type": "execute_result"
    }
   ],
   "source": [
    "sw = stopwords.words('english')\n",
    "sw[:10]"
   ]
  },
  {
   "cell_type": "markdown",
   "id": "9579e7d5",
   "metadata": {
    "papermill": {
     "duration": 0.01335,
     "end_time": "2024-04-22T12:34:33.522779",
     "exception": false,
     "start_time": "2024-04-22T12:34:33.509429",
     "status": "completed"
    },
    "tags": []
   },
   "source": [
    "## **Stopwords Removal**"
   ]
  },
  {
   "cell_type": "code",
   "execution_count": 16,
   "id": "63cb5bdd",
   "metadata": {
    "execution": {
     "iopub.execute_input": "2024-04-22T12:34:33.553130Z",
     "iopub.status.busy": "2024-04-22T12:34:33.552167Z",
     "iopub.status.idle": "2024-04-22T12:34:35.486563Z",
     "shell.execute_reply": "2024-04-22T12:34:35.485138Z"
    },
    "papermill": {
     "duration": 1.952344,
     "end_time": "2024-04-22T12:34:35.489429",
     "exception": false,
     "start_time": "2024-04-22T12:34:33.537085",
     "status": "completed"
    },
    "tags": []
   },
   "outputs": [],
   "source": [
    "tokens = [[w for w in t if w not in sw] for t in tokens]"
   ]
  },
  {
   "cell_type": "code",
   "execution_count": 17,
   "id": "c55d6ddc",
   "metadata": {
    "execution": {
     "iopub.execute_input": "2024-04-22T12:34:35.520014Z",
     "iopub.status.busy": "2024-04-22T12:34:35.519579Z",
     "iopub.status.idle": "2024-04-22T12:34:35.525014Z",
     "shell.execute_reply": "2024-04-22T12:34:35.523992Z"
    },
    "papermill": {
     "duration": 0.023429,
     "end_time": "2024-04-22T12:34:35.527717",
     "exception": false,
     "start_time": "2024-04-22T12:34:35.504288",
     "status": "completed"
    },
    "tags": []
   },
   "outputs": [
    {
     "name": "stdout",
     "output_type": "stream",
     "text": [
      "[['musicians', 'tackle', 'us', 'red', 'tape', 'musicians', 'groups', 'tackle', 'us', 'visa', 'regulations', 'blamed', 'hindering', 'british', 'acts', 'chances', 'succeeding', 'across', 'atlantic', '.', 'singer', 'hoping', 'perform', 'us', 'expect', 'pay', '$', '1,300', '(', 'xc2xa3680', ')', 'simply', 'obtaining', 'visa', '.', 'groups', 'including', 'musicians', 'union', 'calling', 'end', '``', 'raw', 'deal', \"''\", 'faced', 'british', 'performers', '.', 'us', 'acts', 'faced', 'comparable', 'expense', 'bureaucracy', 'visiting', 'uk', 'promotional', 'purposes', '.', 'nigel', 'mccune', 'musicians', 'union', 'said', 'british', 'musicians', '``', 'disadvantaged', \"''\", 'compared', 'us', 'counterparts', '.', 'sponsor', 'make', 'petition', 'behalf', ',', 'form', 'amounting', 'nearly', '30', 'pages', ',', 'musicians', 'face', 'tougher', 'regulations', 'athletes', 'journalists', '.', '``', 'make', 'mistake', 'form', ',', 'risk', 'five-year', 'ban', 'thus', 'ability', 'career', ',', \"''\", 'says', 'mr', 'mccune', '.', '``', 'us', 'worlds', 'biggest', 'music', 'market', ',', 'means', 'something', 'done', 'creaky', 'bureaucracy', ',', \"''\", 'says', 'mr', 'mccune', '.', '``', 'current', 'situation', 'preventing', 'british', 'acts', 'maintaining', 'momentum', 'developing', 'us', ',', \"''\", 'added', '.', 'musicians', 'union', 'stance', 'endorsed', 'music', 'managers', 'forum', '(', 'mmf', ')', ',', 'say', 'british', 'artists', 'face', '``', 'uphill', 'struggle', \"''\", 'succeed', 'us', ',', 'thanks', 'tough', 'visa', 'requirements', ',', 'also', 'seen', 'impractical', '.', 'mmfs', 'general', 'secretary', 'james', 'seller', 'said', ':', '``', 'imagine', 'orchestra', 'orkneys', '?', 'every', 'member', 'would', 'travel', 'london', 'visas', 'processed', '.', \"''\", '``', 'us', 'market', 'seen', 'holy', 'grail', 'one', 'benchmarks', 'success', ',', 'still', 'going', 'fight', 'get', '.', '``', 'still', 'important', ',', 'markets', 'like', 'europe', ',', 'india', 'china', ',', \"''\", 'added', 'mr', 'seller', '.', 'department', 'media', ',', 'culture', 'sport', 'spokeswoman', 'said', ':', '``', 'aware', 'people', 'experiencing', 'problems', ',', 'working', 'us', 'embassy', 'record', 'industry', 'see', '.', \"''\", 'us', 'embassy', 'spokesman', 'said', ':', '``', 'aware', 'entertainers', 'require', 'visas', 'time-specific', 'visas', 'everything', 'process', 'applications', 'speedily', '.', \"''\", '``', 'aware', 'importance', 'cultural', 'exchange', 'best', 'facilitate', ',', \"''\", 'added', '.']]\n"
     ]
    }
   ],
   "source": [
    "print(tokens[:1])"
   ]
  },
  {
   "cell_type": "code",
   "execution_count": 18,
   "id": "76c35c74",
   "metadata": {
    "execution": {
     "iopub.execute_input": "2024-04-22T12:34:35.558213Z",
     "iopub.status.busy": "2024-04-22T12:34:35.557677Z",
     "iopub.status.idle": "2024-04-22T12:34:35.563102Z",
     "shell.execute_reply": "2024-04-22T12:34:35.562289Z"
    },
    "papermill": {
     "duration": 0.022669,
     "end_time": "2024-04-22T12:34:35.565003",
     "exception": false,
     "start_time": "2024-04-22T12:34:35.542334",
     "status": "completed"
    },
    "tags": []
   },
   "outputs": [
    {
     "name": "stdout",
     "output_type": "stream",
     "text": [
      "'us' is not a stopword.\n"
     ]
    }
   ],
   "source": [
    "if 'us' in sw:\n",
    "    print(\"'us' is a stopword.\")\n",
    "else:\n",
    "    print(\"'us' is not a stopword.\")"
   ]
  },
  {
   "cell_type": "markdown",
   "id": "ed68d9b4",
   "metadata": {
    "papermill": {
     "duration": 0.013167,
     "end_time": "2024-04-22T12:34:35.591654",
     "exception": false,
     "start_time": "2024-04-22T12:34:35.578487",
     "status": "completed"
    },
    "tags": []
   },
   "source": [
    "## **Remove Punctuations**"
   ]
  },
  {
   "cell_type": "code",
   "execution_count": 19,
   "id": "6f3de6fd",
   "metadata": {
    "execution": {
     "iopub.execute_input": "2024-04-22T12:34:35.696073Z",
     "iopub.status.busy": "2024-04-22T12:34:35.695379Z",
     "iopub.status.idle": "2024-04-22T12:34:35.699653Z",
     "shell.execute_reply": "2024-04-22T12:34:35.698734Z"
    },
    "papermill": {
     "duration": 0.022569,
     "end_time": "2024-04-22T12:34:35.701882",
     "exception": false,
     "start_time": "2024-04-22T12:34:35.679313",
     "status": "completed"
    },
    "tags": []
   },
   "outputs": [],
   "source": [
    "punc = RegexpTokenizer(r'\\w+')"
   ]
  },
  {
   "cell_type": "code",
   "execution_count": 20,
   "id": "f17e3ddf",
   "metadata": {
    "execution": {
     "iopub.execute_input": "2024-04-22T12:34:35.733210Z",
     "iopub.status.busy": "2024-04-22T12:34:35.732095Z",
     "iopub.status.idle": "2024-04-22T12:34:36.711313Z",
     "shell.execute_reply": "2024-04-22T12:34:36.710158Z"
    },
    "papermill": {
     "duration": 0.998254,
     "end_time": "2024-04-22T12:34:36.714172",
     "exception": false,
     "start_time": "2024-04-22T12:34:35.715918",
     "status": "completed"
    },
    "tags": []
   },
   "outputs": [],
   "source": [
    "tokens = [[\"\".join(punc.tokenize(word)) for word in t if len(punc.tokenize(word)) > 0] for t in tokens]"
   ]
  },
  {
   "cell_type": "code",
   "execution_count": 21,
   "id": "7cc4cb1b",
   "metadata": {
    "execution": {
     "iopub.execute_input": "2024-04-22T12:34:36.744973Z",
     "iopub.status.busy": "2024-04-22T12:34:36.744026Z",
     "iopub.status.idle": "2024-04-22T12:34:36.750930Z",
     "shell.execute_reply": "2024-04-22T12:34:36.749786Z"
    },
    "papermill": {
     "duration": 0.02457,
     "end_time": "2024-04-22T12:34:36.753182",
     "exception": false,
     "start_time": "2024-04-22T12:34:36.728612",
     "status": "completed"
    },
    "tags": []
   },
   "outputs": [],
   "source": [
    "import re\n",
    "\n",
    "def remove_punc(text) :\n",
    "    return re.sub(r'[^\\w\\s.,\\'\"]','',text)\n",
    "\n",
    "check = [text for text in tokens]\n"
   ]
  },
  {
   "cell_type": "raw",
   "id": "660b72a3",
   "metadata": {
    "execution": {
     "iopub.execute_input": "2024-04-19T12:07:18.378096Z",
     "iopub.status.busy": "2024-04-19T12:07:18.377745Z",
     "iopub.status.idle": "2024-04-19T12:07:18.383604Z",
     "shell.execute_reply": "2024-04-19T12:07:18.382520Z",
     "shell.execute_reply.started": "2024-04-19T12:07:18.378070Z"
    },
    "papermill": {
     "duration": 0.013435,
     "end_time": "2024-04-22T12:34:36.780549",
     "exception": false,
     "start_time": "2024-04-22T12:34:36.767114",
     "status": "completed"
    },
    "tags": []
   },
   "source": []
  },
  {
   "cell_type": "code",
   "execution_count": 22,
   "id": "6175b776",
   "metadata": {
    "execution": {
     "iopub.execute_input": "2024-04-22T12:34:36.810245Z",
     "iopub.status.busy": "2024-04-22T12:34:36.809824Z",
     "iopub.status.idle": "2024-04-22T12:34:36.815359Z",
     "shell.execute_reply": "2024-04-22T12:34:36.814192Z"
    },
    "papermill": {
     "duration": 0.024069,
     "end_time": "2024-04-22T12:34:36.818559",
     "exception": false,
     "start_time": "2024-04-22T12:34:36.794490",
     "status": "completed"
    },
    "tags": []
   },
   "outputs": [
    {
     "name": "stdout",
     "output_type": "stream",
     "text": [
      "[['musicians', 'tackle', 'us', 'red', 'tape', 'musicians', 'groups', 'tackle', 'us', 'visa', 'regulations', 'blamed', 'hindering', 'british', 'acts', 'chances', 'succeeding', 'across', 'atlantic', 'singer', 'hoping', 'perform', 'us', 'expect', 'pay', '1300', 'xc2xa3680', 'simply', 'obtaining', 'visa', 'groups', 'including', 'musicians', 'union', 'calling', 'end', 'raw', 'deal', 'faced', 'british', 'performers', 'us', 'acts', 'faced', 'comparable', 'expense', 'bureaucracy', 'visiting', 'uk', 'promotional', 'purposes', 'nigel', 'mccune', 'musicians', 'union', 'said', 'british', 'musicians', 'disadvantaged', 'compared', 'us', 'counterparts', 'sponsor', 'make', 'petition', 'behalf', 'form', 'amounting', 'nearly', '30', 'pages', 'musicians', 'face', 'tougher', 'regulations', 'athletes', 'journalists', 'make', 'mistake', 'form', 'risk', 'fiveyear', 'ban', 'thus', 'ability', 'career', 'says', 'mr', 'mccune', 'us', 'worlds', 'biggest', 'music', 'market', 'means', 'something', 'done', 'creaky', 'bureaucracy', 'says', 'mr', 'mccune', 'current', 'situation', 'preventing', 'british', 'acts', 'maintaining', 'momentum', 'developing', 'us', 'added', 'musicians', 'union', 'stance', 'endorsed', 'music', 'managers', 'forum', 'mmf', 'say', 'british', 'artists', 'face', 'uphill', 'struggle', 'succeed', 'us', 'thanks', 'tough', 'visa', 'requirements', 'also', 'seen', 'impractical', 'mmfs', 'general', 'secretary', 'james', 'seller', 'said', 'imagine', 'orchestra', 'orkneys', 'every', 'member', 'would', 'travel', 'london', 'visas', 'processed', 'us', 'market', 'seen', 'holy', 'grail', 'one', 'benchmarks', 'success', 'still', 'going', 'fight', 'get', 'still', 'important', 'markets', 'like', 'europe', 'india', 'china', 'added', 'mr', 'seller', 'department', 'media', 'culture', 'sport', 'spokeswoman', 'said', 'aware', 'people', 'experiencing', 'problems', 'working', 'us', 'embassy', 'record', 'industry', 'see', 'us', 'embassy', 'spokesman', 'said', 'aware', 'entertainers', 'require', 'visas', 'timespecific', 'visas', 'everything', 'process', 'applications', 'speedily', 'aware', 'importance', 'cultural', 'exchange', 'best', 'facilitate', 'added']]\n"
     ]
    }
   ],
   "source": [
    "print(tokens[:1])"
   ]
  },
  {
   "cell_type": "markdown",
   "id": "3d48ed66",
   "metadata": {
    "papermill": {
     "duration": 0.01366,
     "end_time": "2024-04-22T12:34:36.848145",
     "exception": false,
     "start_time": "2024-04-22T12:34:36.834485",
     "status": "completed"
    },
    "tags": []
   },
   "source": [
    "## **Stemming**"
   ]
  },
  {
   "cell_type": "code",
   "execution_count": 23,
   "id": "52a20f89",
   "metadata": {
    "execution": {
     "iopub.execute_input": "2024-04-22T12:34:36.878344Z",
     "iopub.status.busy": "2024-04-22T12:34:36.877535Z",
     "iopub.status.idle": "2024-04-22T12:34:36.882302Z",
     "shell.execute_reply": "2024-04-22T12:34:36.881524Z"
    },
    "papermill": {
     "duration": 0.0224,
     "end_time": "2024-04-22T12:34:36.884630",
     "exception": false,
     "start_time": "2024-04-22T12:34:36.862230",
     "status": "completed"
    },
    "tags": []
   },
   "outputs": [],
   "source": [
    "porter = PorterStemmer()\n",
    "lancaster = LancasterStemmer()"
   ]
  },
  {
   "cell_type": "code",
   "execution_count": null,
   "id": "b4403d78",
   "metadata": {
    "papermill": {
     "duration": 0.013549,
     "end_time": "2024-04-22T12:34:36.912373",
     "exception": false,
     "start_time": "2024-04-22T12:34:36.898824",
     "status": "completed"
    },
    "tags": []
   },
   "outputs": [],
   "source": []
  },
  {
   "cell_type": "code",
   "execution_count": 24,
   "id": "41ce2a62",
   "metadata": {
    "execution": {
     "iopub.execute_input": "2024-04-22T12:34:36.943977Z",
     "iopub.status.busy": "2024-04-22T12:34:36.943527Z",
     "iopub.status.idle": "2024-04-22T12:34:45.216592Z",
     "shell.execute_reply": "2024-04-22T12:34:45.215375Z"
    },
    "papermill": {
     "duration": 8.2927,
     "end_time": "2024-04-22T12:34:45.219473",
     "exception": false,
     "start_time": "2024-04-22T12:34:36.926773",
     "status": "completed"
    },
    "tags": []
   },
   "outputs": [],
   "source": [
    "tokens = [[lancaster.stem(word) for word in t] for t in tokens]"
   ]
  },
  {
   "cell_type": "code",
   "execution_count": 25,
   "id": "09dfbe92",
   "metadata": {
    "execution": {
     "iopub.execute_input": "2024-04-22T12:34:45.251474Z",
     "iopub.status.busy": "2024-04-22T12:34:45.251044Z",
     "iopub.status.idle": "2024-04-22T12:34:45.273398Z",
     "shell.execute_reply": "2024-04-22T12:34:45.272134Z"
    },
    "papermill": {
     "duration": 0.042153,
     "end_time": "2024-04-22T12:34:45.276164",
     "exception": false,
     "start_time": "2024-04-22T12:34:45.234011",
     "status": "completed"
    },
    "tags": []
   },
   "outputs": [],
   "source": [
    "clean_tokens = [\" \".join(t) for t in tokens]"
   ]
  },
  {
   "cell_type": "code",
   "execution_count": 26,
   "id": "ec134a8c",
   "metadata": {
    "execution": {
     "iopub.execute_input": "2024-04-22T12:34:45.308049Z",
     "iopub.status.busy": "2024-04-22T12:34:45.307574Z",
     "iopub.status.idle": "2024-04-22T12:34:45.314253Z",
     "shell.execute_reply": "2024-04-22T12:34:45.312865Z"
    },
    "papermill": {
     "duration": 0.02627,
     "end_time": "2024-04-22T12:34:45.316827",
     "exception": false,
     "start_time": "2024-04-22T12:34:45.290557",
     "status": "completed"
    },
    "tags": []
   },
   "outputs": [
    {
     "name": "stdout",
     "output_type": "stream",
     "text": [
      "['mus tackl us red tap mus group tackl us vis reg blam hind brit act chant success across atl sing hop perform us expect pay 1300 xc2xa3680 simply obtain vis group includ mus un cal end raw deal fac brit perform us act fac comp expens bureaucr visit uk promot purpos nigel mccune mus un said brit mus disadv comp us counterpart spons mak petit behalf form amount near 30 pag mus fac tough reg athlet journ mak mistak form risk fiveyear ban thu abl car say mr mccune us world biggest mus market mean someth don creaky bureaucr say mr mccune cur situ prev brit act maintain moment develop us ad mus un stant endors mus man for mmf say brit art fac uphil struggle success us thank tough vis requir also seen impract mmfs gen secret jam sel said imagin orchestr orkney every memb would travel london visa process us market seen holy grail on benchmark success stil going fight get stil import market lik europ ind chin ad mr sel depart med cult sport spokeswom said aw peopl expery problem work us embassy record industry see us embassy spokesm said aw entertain requir visa timespec visa everyth process apply speedy aw import cult exchang best facilit ad']\n"
     ]
    }
   ],
   "source": [
    "print(clean_tokens[:1])"
   ]
  },
  {
   "cell_type": "markdown",
   "id": "19dd2461",
   "metadata": {
    "papermill": {
     "duration": 0.014102,
     "end_time": "2024-04-22T12:34:45.345570",
     "exception": false,
     "start_time": "2024-04-22T12:34:45.331468",
     "status": "completed"
    },
    "tags": []
   },
   "source": [
    "## **Bag of Words**"
   ]
  },
  {
   "cell_type": "code",
   "execution_count": 27,
   "id": "f7e8728f",
   "metadata": {
    "execution": {
     "iopub.execute_input": "2024-04-22T12:34:45.376450Z",
     "iopub.status.busy": "2024-04-22T12:34:45.375971Z",
     "iopub.status.idle": "2024-04-22T12:34:45.381295Z",
     "shell.execute_reply": "2024-04-22T12:34:45.379969Z"
    },
    "papermill": {
     "duration": 0.023943,
     "end_time": "2024-04-22T12:34:45.383921",
     "exception": false,
     "start_time": "2024-04-22T12:34:45.359978",
     "status": "completed"
    },
    "tags": []
   },
   "outputs": [],
   "source": [
    "vect = CountVectorizer(binary = False, min_df = 5)\n",
    "#binary parameter decides if the counts will be binary for the Vectorizer\n",
    "#min_df sets the threshols for the minimum number of occurence for a word to be vectorized"
   ]
  },
  {
   "cell_type": "code",
   "execution_count": 28,
   "id": "e2858211",
   "metadata": {
    "execution": {
     "iopub.execute_input": "2024-04-22T12:34:45.414956Z",
     "iopub.status.busy": "2024-04-22T12:34:45.414500Z",
     "iopub.status.idle": "2024-04-22T12:34:45.862985Z",
     "shell.execute_reply": "2024-04-22T12:34:45.861726Z"
    },
    "papermill": {
     "duration": 0.467671,
     "end_time": "2024-04-22T12:34:45.866027",
     "exception": false,
     "start_time": "2024-04-22T12:34:45.398356",
     "status": "completed"
    },
    "tags": []
   },
   "outputs": [],
   "source": [
    "X = vect.fit_transform(clean_tokens)"
   ]
  },
  {
   "cell_type": "code",
   "execution_count": 29,
   "id": "8a22a861",
   "metadata": {
    "execution": {
     "iopub.execute_input": "2024-04-22T12:34:45.896757Z",
     "iopub.status.busy": "2024-04-22T12:34:45.896260Z",
     "iopub.status.idle": "2024-04-22T12:34:45.994752Z",
     "shell.execute_reply": "2024-04-22T12:34:45.993690Z"
    },
    "papermill": {
     "duration": 0.117062,
     "end_time": "2024-04-22T12:34:45.997627",
     "exception": false,
     "start_time": "2024-04-22T12:34:45.880565",
     "status": "completed"
    },
    "tags": []
   },
   "outputs": [],
   "source": [
    "X = X.toarray()"
   ]
  },
  {
   "cell_type": "code",
   "execution_count": 30,
   "id": "45b553c4",
   "metadata": {
    "execution": {
     "iopub.execute_input": "2024-04-22T12:34:46.029685Z",
     "iopub.status.busy": "2024-04-22T12:34:46.028533Z",
     "iopub.status.idle": "2024-04-22T12:34:46.034861Z",
     "shell.execute_reply": "2024-04-22T12:34:46.034040Z"
    },
    "papermill": {
     "duration": 0.024702,
     "end_time": "2024-04-22T12:34:46.036954",
     "exception": false,
     "start_time": "2024-04-22T12:34:46.012252",
     "status": "completed"
    },
    "tags": []
   },
   "outputs": [
    {
     "data": {
      "text/plain": [
       "'Donor attacks Blair-Brown feud  The reported feud between Tony Blair and Gordon Brown has prompted a Labour donor to say he will almost certainly refuse to give more funds.  Duncan Bannatyne also attacked the government over Iraq and its \"poor\" response to the Asian tsunami crisis. His broadside came as ex-Foreign Secretary Robin Cook said he hoped Mr Brown would be premier at some point. Mr Bannatyne has previously given Labour xc2xa350,000. He made his fortune from care homes and health clubs.  The 52-year-old on Tuesday said was he was reviewing his donations because of Cabinet disunity and international issues. His spokesman said it was highly unlikely he would give Labour more money, although he would remain a supporter and not fund the Conservatives.  Robert Pestons new book has prompted more speculation about the Blair-Brown rift with its claims that the prime minister broke a promise made in 2003 to stand down. Mr Bannatyne said: \"Disunity in the Cabinet has a corrosive effect on the country. \"Gordon Brown is a great chancellor who has delivered a stable economy, but business wants that to continue and not be blown off course by petty squabbles based on personal ambition.\" The businessman, whose latest venture is a casino in Newcastle, also voiced concern about the ongoing violence in Iraq.  And he branded the UK governments response to the tsunami as \"piecemeal and poor\". \"The people there need practical help not just pledges of money,\" he said. \"The US has forces helping on the ground - we can do more.\" British Navy ships have helped the relief effort and the prime minister has said the government could ultimately give hundreds of millions of pounds in aid. Mr Bannatyne is due to host a new television programme and is also appearing on BBC2 business start-up programme Dragons Den. But his spokesman insisted his attack on Labour was not a publicity stunt.  In a separate development, Robin Cook gave his support to Mr Browns prime ministerial ambitions but told a lunch for political journalists winning the election had to be Labours election. But he insisted the recent squabbles between Mr Blair and Mr Brown were not \"perceived as a problem by the voters,\" adding there was no impression of governmental incompetence. Mr Cook argued that more prominence was given to these matters because there was \"not an alternative source of opposition to the government\". He warned the \"Abstentions Party\" was the real challenge to Labour - and they would not be motivated by Mr Blairs promise to produce an \"unremittingly New Labour\" election manifesto. His comments come after Dave Prentis, the leader of Britains biggest union Unison, told the Daily Record newspaper he wants a date to be set for Mr Blair to be replaced as Labour leader. '"
      ]
     },
     "execution_count": 30,
     "metadata": {},
     "output_type": "execute_result"
    }
   ],
   "source": [
    "df.loc[1409,'data']"
   ]
  },
  {
   "cell_type": "code",
   "execution_count": 31,
   "id": "33932b63",
   "metadata": {
    "execution": {
     "iopub.execute_input": "2024-04-22T12:34:46.067923Z",
     "iopub.status.busy": "2024-04-22T12:34:46.067446Z",
     "iopub.status.idle": "2024-04-22T12:34:46.079773Z",
     "shell.execute_reply": "2024-04-22T12:34:46.078417Z"
    },
    "papermill": {
     "duration": 0.030651,
     "end_time": "2024-04-22T12:34:46.082113",
     "exception": false,
     "start_time": "2024-04-22T12:34:46.051462",
     "status": "completed"
    },
    "tags": []
   },
   "outputs": [
    {
     "data": {
      "text/html": [
       "<div>\n",
       "<style scoped>\n",
       "    .dataframe tbody tr th:only-of-type {\n",
       "        vertical-align: middle;\n",
       "    }\n",
       "\n",
       "    .dataframe tbody tr th {\n",
       "        vertical-align: top;\n",
       "    }\n",
       "\n",
       "    .dataframe thead th {\n",
       "        text-align: right;\n",
       "    }\n",
       "</style>\n",
       "<table border=\"1\" class=\"dataframe\">\n",
       "  <thead>\n",
       "    <tr style=\"text-align: right;\">\n",
       "      <th></th>\n",
       "      <th>data</th>\n",
       "      <th>labels</th>\n",
       "      <th>len</th>\n",
       "    </tr>\n",
       "  </thead>\n",
       "  <tbody>\n",
       "    <tr>\n",
       "      <th>1407</th>\n",
       "      <td>Baron Kinnock makes Lords debut  Former Labour...</td>\n",
       "      <td>politics</td>\n",
       "      <td>2499</td>\n",
       "    </tr>\n",
       "    <tr>\n",
       "      <th>1408</th>\n",
       "      <td>Howard taunts Blair over splits  Tony Blairs f...</td>\n",
       "      <td>politics</td>\n",
       "      <td>2885</td>\n",
       "    </tr>\n",
       "    <tr>\n",
       "      <th>1409</th>\n",
       "      <td>Donor attacks Blair-Brown feud  The reported f...</td>\n",
       "      <td>politics</td>\n",
       "      <td>2775</td>\n",
       "    </tr>\n",
       "    <tr>\n",
       "      <th>1410</th>\n",
       "      <td>Cardinal criticises Iraq war cost  Billions of...</td>\n",
       "      <td>politics</td>\n",
       "      <td>2497</td>\n",
       "    </tr>\n",
       "    <tr>\n",
       "      <th>1411</th>\n",
       "      <td>BNP leader Nick Griffin arrested  The leader o...</td>\n",
       "      <td>politics</td>\n",
       "      <td>1268</td>\n",
       "    </tr>\n",
       "  </tbody>\n",
       "</table>\n",
       "</div>"
      ],
      "text/plain": [
       "                                                   data    labels   len\n",
       "1407  Baron Kinnock makes Lords debut  Former Labour...  politics  2499\n",
       "1408  Howard taunts Blair over splits  Tony Blairs f...  politics  2885\n",
       "1409  Donor attacks Blair-Brown feud  The reported f...  politics  2775\n",
       "1410  Cardinal criticises Iraq war cost  Billions of...  politics  2497\n",
       "1411  BNP leader Nick Griffin arrested  The leader o...  politics  1268"
      ]
     },
     "execution_count": 31,
     "metadata": {},
     "output_type": "execute_result"
    }
   ],
   "source": [
    "df.loc[df['labels'] == 'politics'].head()"
   ]
  },
  {
   "cell_type": "code",
   "execution_count": 32,
   "id": "4955e5d1",
   "metadata": {
    "execution": {
     "iopub.execute_input": "2024-04-22T12:34:46.113492Z",
     "iopub.status.busy": "2024-04-22T12:34:46.113090Z",
     "iopub.status.idle": "2024-04-22T12:34:46.134227Z",
     "shell.execute_reply": "2024-04-22T12:34:46.133061Z"
    },
    "papermill": {
     "duration": 0.039774,
     "end_time": "2024-04-22T12:34:46.136881",
     "exception": false,
     "start_time": "2024-04-22T12:34:46.097107",
     "status": "completed"
    },
    "tags": []
   },
   "outputs": [],
   "source": [
    "ohe = OneHotEncoder(use_cat_names = True)\n",
    "y = ohe.fit_transform(df['labels'])"
   ]
  },
  {
   "cell_type": "code",
   "execution_count": 33,
   "id": "934c321a",
   "metadata": {
    "execution": {
     "iopub.execute_input": "2024-04-22T12:34:46.168040Z",
     "iopub.status.busy": "2024-04-22T12:34:46.167636Z",
     "iopub.status.idle": "2024-04-22T12:34:46.172688Z",
     "shell.execute_reply": "2024-04-22T12:34:46.171350Z"
    },
    "papermill": {
     "duration": 0.023406,
     "end_time": "2024-04-22T12:34:46.175006",
     "exception": false,
     "start_time": "2024-04-22T12:34:46.151600",
     "status": "completed"
    },
    "tags": []
   },
   "outputs": [],
   "source": [
    "y = df['labels']"
   ]
  },
  {
   "cell_type": "code",
   "execution_count": 34,
   "id": "8af58dbe",
   "metadata": {
    "execution": {
     "iopub.execute_input": "2024-04-22T12:34:46.205952Z",
     "iopub.status.busy": "2024-04-22T12:34:46.205541Z",
     "iopub.status.idle": "2024-04-22T12:34:46.262630Z",
     "shell.execute_reply": "2024-04-22T12:34:46.261727Z"
    },
    "papermill": {
     "duration": 0.075537,
     "end_time": "2024-04-22T12:34:46.265160",
     "exception": false,
     "start_time": "2024-04-22T12:34:46.189623",
     "status": "completed"
    },
    "tags": []
   },
   "outputs": [],
   "source": [
    "X_train, X_test, y_train, y_test = train_test_split(X, y, random_state = 42, stratify = y, test_size = 0.2)"
   ]
  },
  {
   "cell_type": "code",
   "execution_count": 35,
   "id": "18010b2b",
   "metadata": {
    "execution": {
     "iopub.execute_input": "2024-04-22T12:34:46.297795Z",
     "iopub.status.busy": "2024-04-22T12:34:46.296634Z",
     "iopub.status.idle": "2024-04-22T12:34:46.303052Z",
     "shell.execute_reply": "2024-04-22T12:34:46.302285Z"
    },
    "papermill": {
     "duration": 0.02468,
     "end_time": "2024-04-22T12:34:46.305010",
     "exception": false,
     "start_time": "2024-04-22T12:34:46.280330",
     "status": "completed"
    },
    "tags": []
   },
   "outputs": [
    {
     "data": {
      "text/plain": [
       "array([[0, 0, 0, ..., 0, 0, 0],\n",
       "       [0, 0, 0, ..., 0, 0, 0],\n",
       "       [0, 0, 0, ..., 0, 0, 0],\n",
       "       [0, 0, 0, ..., 1, 0, 0],\n",
       "       [0, 0, 0, ..., 0, 0, 0]])"
      ]
     },
     "execution_count": 35,
     "metadata": {},
     "output_type": "execute_result"
    }
   ],
   "source": [
    "X_train[:5]"
   ]
  },
  {
   "cell_type": "code",
   "execution_count": 36,
   "id": "9ba67cfb",
   "metadata": {
    "execution": {
     "iopub.execute_input": "2024-04-22T12:34:46.338816Z",
     "iopub.status.busy": "2024-04-22T12:34:46.337942Z",
     "iopub.status.idle": "2024-04-22T12:34:52.440832Z",
     "shell.execute_reply": "2024-04-22T12:34:52.439359Z"
    },
    "papermill": {
     "duration": 6.123743,
     "end_time": "2024-04-22T12:34:52.444136",
     "exception": false,
     "start_time": "2024-04-22T12:34:46.320393",
     "status": "completed"
    },
    "tags": []
   },
   "outputs": [
    {
     "data": {
      "text/html": [
       "<style>#sk-container-id-1 {color: black;background-color: white;}#sk-container-id-1 pre{padding: 0;}#sk-container-id-1 div.sk-toggleable {background-color: white;}#sk-container-id-1 label.sk-toggleable__label {cursor: pointer;display: block;width: 100%;margin-bottom: 0;padding: 0.3em;box-sizing: border-box;text-align: center;}#sk-container-id-1 label.sk-toggleable__label-arrow:before {content: \"▸\";float: left;margin-right: 0.25em;color: #696969;}#sk-container-id-1 label.sk-toggleable__label-arrow:hover:before {color: black;}#sk-container-id-1 div.sk-estimator:hover label.sk-toggleable__label-arrow:before {color: black;}#sk-container-id-1 div.sk-toggleable__content {max-height: 0;max-width: 0;overflow: hidden;text-align: left;background-color: #f0f8ff;}#sk-container-id-1 div.sk-toggleable__content pre {margin: 0.2em;color: black;border-radius: 0.25em;background-color: #f0f8ff;}#sk-container-id-1 input.sk-toggleable__control:checked~div.sk-toggleable__content {max-height: 200px;max-width: 100%;overflow: auto;}#sk-container-id-1 input.sk-toggleable__control:checked~label.sk-toggleable__label-arrow:before {content: \"▾\";}#sk-container-id-1 div.sk-estimator input.sk-toggleable__control:checked~label.sk-toggleable__label {background-color: #d4ebff;}#sk-container-id-1 div.sk-label input.sk-toggleable__control:checked~label.sk-toggleable__label {background-color: #d4ebff;}#sk-container-id-1 input.sk-hidden--visually {border: 0;clip: rect(1px 1px 1px 1px);clip: rect(1px, 1px, 1px, 1px);height: 1px;margin: -1px;overflow: hidden;padding: 0;position: absolute;width: 1px;}#sk-container-id-1 div.sk-estimator {font-family: monospace;background-color: #f0f8ff;border: 1px dotted black;border-radius: 0.25em;box-sizing: border-box;margin-bottom: 0.5em;}#sk-container-id-1 div.sk-estimator:hover {background-color: #d4ebff;}#sk-container-id-1 div.sk-parallel-item::after {content: \"\";width: 100%;border-bottom: 1px solid gray;flex-grow: 1;}#sk-container-id-1 div.sk-label:hover label.sk-toggleable__label {background-color: #d4ebff;}#sk-container-id-1 div.sk-serial::before {content: \"\";position: absolute;border-left: 1px solid gray;box-sizing: border-box;top: 0;bottom: 0;left: 50%;z-index: 0;}#sk-container-id-1 div.sk-serial {display: flex;flex-direction: column;align-items: center;background-color: white;padding-right: 0.2em;padding-left: 0.2em;position: relative;}#sk-container-id-1 div.sk-item {position: relative;z-index: 1;}#sk-container-id-1 div.sk-parallel {display: flex;align-items: stretch;justify-content: center;background-color: white;position: relative;}#sk-container-id-1 div.sk-item::before, #sk-container-id-1 div.sk-parallel-item::before {content: \"\";position: absolute;border-left: 1px solid gray;box-sizing: border-box;top: 0;bottom: 0;left: 50%;z-index: -1;}#sk-container-id-1 div.sk-parallel-item {display: flex;flex-direction: column;z-index: 1;position: relative;background-color: white;}#sk-container-id-1 div.sk-parallel-item:first-child::after {align-self: flex-end;width: 50%;}#sk-container-id-1 div.sk-parallel-item:last-child::after {align-self: flex-start;width: 50%;}#sk-container-id-1 div.sk-parallel-item:only-child::after {width: 0;}#sk-container-id-1 div.sk-dashed-wrapped {border: 1px dashed gray;margin: 0 0.4em 0.5em 0.4em;box-sizing: border-box;padding-bottom: 0.4em;background-color: white;}#sk-container-id-1 div.sk-label label {font-family: monospace;font-weight: bold;display: inline-block;line-height: 1.2em;}#sk-container-id-1 div.sk-label-container {text-align: center;}#sk-container-id-1 div.sk-container {/* jupyter's `normalize.less` sets `[hidden] { display: none; }` but bootstrap.min.css set `[hidden] { display: none !important; }` so we also need the `!important` here to be able to override the default hidden behavior on the sphinx rendered scikit-learn.org. See: https://github.com/scikit-learn/scikit-learn/issues/21755 */display: inline-block !important;position: relative;}#sk-container-id-1 div.sk-text-repr-fallback {display: none;}</style><div id=\"sk-container-id-1\" class=\"sk-top-container\"><div class=\"sk-text-repr-fallback\"><pre>LogisticRegression(max_iter=1000, multi_class=&#x27;multinomial&#x27;)</pre><b>In a Jupyter environment, please rerun this cell to show the HTML representation or trust the notebook. <br />On GitHub, the HTML representation is unable to render, please try loading this page with nbviewer.org.</b></div><div class=\"sk-container\" hidden><div class=\"sk-item\"><div class=\"sk-estimator sk-toggleable\"><input class=\"sk-toggleable__control sk-hidden--visually\" id=\"sk-estimator-id-1\" type=\"checkbox\" checked><label for=\"sk-estimator-id-1\" class=\"sk-toggleable__label sk-toggleable__label-arrow\">LogisticRegression</label><div class=\"sk-toggleable__content\"><pre>LogisticRegression(max_iter=1000, multi_class=&#x27;multinomial&#x27;)</pre></div></div></div></div></div>"
      ],
      "text/plain": [
       "LogisticRegression(max_iter=1000, multi_class='multinomial')"
      ]
     },
     "execution_count": 36,
     "metadata": {},
     "output_type": "execute_result"
    }
   ],
   "source": [
    "log_model = LogisticRegression(multi_class = 'multinomial', solver = 'lbfgs', max_iter = 1000)\n",
    "log_model.fit(X_train, y_train)"
   ]
  },
  {
   "cell_type": "code",
   "execution_count": 37,
   "id": "ece71926",
   "metadata": {
    "execution": {
     "iopub.execute_input": "2024-04-22T12:34:52.548824Z",
     "iopub.status.busy": "2024-04-22T12:34:52.547999Z",
     "iopub.status.idle": "2024-04-22T12:34:52.576896Z",
     "shell.execute_reply": "2024-04-22T12:34:52.575336Z"
    },
    "papermill": {
     "duration": 0.088942,
     "end_time": "2024-04-22T12:34:52.581222",
     "exception": false,
     "start_time": "2024-04-22T12:34:52.492280",
     "status": "completed"
    },
    "tags": []
   },
   "outputs": [
    {
     "name": "stdout",
     "output_type": "stream",
     "text": [
      "0.9842696629213483\n"
     ]
    }
   ],
   "source": [
    "test_pred = log_model.predict(X_test)\n",
    "\n",
    "accuracy = accuracy_score(y_test, test_pred)\n",
    "\n",
    "print(accuracy)"
   ]
  },
  {
   "cell_type": "code",
   "execution_count": 38,
   "id": "36fa995a",
   "metadata": {
    "execution": {
     "iopub.execute_input": "2024-04-22T12:34:52.637097Z",
     "iopub.status.busy": "2024-04-22T12:34:52.636353Z",
     "iopub.status.idle": "2024-04-22T12:34:52.711682Z",
     "shell.execute_reply": "2024-04-22T12:34:52.710406Z"
    },
    "papermill": {
     "duration": 0.106041,
     "end_time": "2024-04-22T12:34:52.714772",
     "exception": false,
     "start_time": "2024-04-22T12:34:52.608731",
     "status": "completed"
    },
    "tags": []
   },
   "outputs": [
    {
     "name": "stdout",
     "output_type": "stream",
     "text": [
      "1.0\n"
     ]
    }
   ],
   "source": [
    "train_pred = log_model.predict(X_train)\n",
    "\n",
    "train_accuracy = accuracy_score(y_train, train_pred)\n",
    "\n",
    "print(train_accuracy)"
   ]
  },
  {
   "cell_type": "markdown",
   "id": "95856190",
   "metadata": {
    "papermill": {
     "duration": 0.02698,
     "end_time": "2024-04-22T12:34:52.768102",
     "exception": false,
     "start_time": "2024-04-22T12:34:52.741122",
     "status": "completed"
    },
    "tags": []
   },
   "source": [
    "## **TF-IDF Vectorizer**"
   ]
  },
  {
   "cell_type": "code",
   "execution_count": 39,
   "id": "7d95d505",
   "metadata": {
    "execution": {
     "iopub.execute_input": "2024-04-22T12:34:52.821121Z",
     "iopub.status.busy": "2024-04-22T12:34:52.820485Z",
     "iopub.status.idle": "2024-04-22T12:34:52.826255Z",
     "shell.execute_reply": "2024-04-22T12:34:52.825127Z"
    },
    "papermill": {
     "duration": 0.034685,
     "end_time": "2024-04-22T12:34:52.828385",
     "exception": false,
     "start_time": "2024-04-22T12:34:52.793700",
     "status": "completed"
    },
    "tags": []
   },
   "outputs": [],
   "source": [
    "tfidf_vect = TfidfVectorizer(min_df = 5)"
   ]
  },
  {
   "cell_type": "code",
   "execution_count": 40,
   "id": "6ed91c25",
   "metadata": {
    "execution": {
     "iopub.execute_input": "2024-04-22T12:34:52.861549Z",
     "iopub.status.busy": "2024-04-22T12:34:52.860677Z",
     "iopub.status.idle": "2024-04-22T12:34:53.307247Z",
     "shell.execute_reply": "2024-04-22T12:34:53.306039Z"
    },
    "papermill": {
     "duration": 0.466164,
     "end_time": "2024-04-22T12:34:53.310187",
     "exception": false,
     "start_time": "2024-04-22T12:34:52.844023",
     "status": "completed"
    },
    "tags": []
   },
   "outputs": [],
   "source": [
    "X = tfidf_vect.fit_transform(clean_tokens)"
   ]
  },
  {
   "cell_type": "code",
   "execution_count": 41,
   "id": "41da4863",
   "metadata": {
    "execution": {
     "iopub.execute_input": "2024-04-22T12:34:53.341993Z",
     "iopub.status.busy": "2024-04-22T12:34:53.341503Z",
     "iopub.status.idle": "2024-04-22T12:34:53.349220Z",
     "shell.execute_reply": "2024-04-22T12:34:53.347902Z"
    },
    "papermill": {
     "duration": 0.027125,
     "end_time": "2024-04-22T12:34:53.352298",
     "exception": false,
     "start_time": "2024-04-22T12:34:53.325173",
     "status": "completed"
    },
    "tags": []
   },
   "outputs": [
    {
     "data": {
      "text/plain": [
       "array(['entertainment', 'business', 'sport', 'politics', 'tech'],\n",
       "      dtype=object)"
      ]
     },
     "execution_count": 41,
     "metadata": {},
     "output_type": "execute_result"
    }
   ],
   "source": [
    "y.unique()"
   ]
  },
  {
   "cell_type": "code",
   "execution_count": 42,
   "id": "e38b98e4",
   "metadata": {
    "execution": {
     "iopub.execute_input": "2024-04-22T12:34:53.387049Z",
     "iopub.status.busy": "2024-04-22T12:34:53.386652Z",
     "iopub.status.idle": "2024-04-22T12:34:53.398320Z",
     "shell.execute_reply": "2024-04-22T12:34:53.396940Z"
    },
    "papermill": {
     "duration": 0.032082,
     "end_time": "2024-04-22T12:34:53.401342",
     "exception": false,
     "start_time": "2024-04-22T12:34:53.369260",
     "status": "completed"
    },
    "tags": []
   },
   "outputs": [],
   "source": [
    "X_train, X_test, y_train, y_test = train_test_split(X, y, test_size = 0.2, random_state = 42, stratify = y)"
   ]
  },
  {
   "cell_type": "code",
   "execution_count": 43,
   "id": "81cb081c",
   "metadata": {
    "execution": {
     "iopub.execute_input": "2024-04-22T12:34:53.434010Z",
     "iopub.status.busy": "2024-04-22T12:34:53.433587Z",
     "iopub.status.idle": "2024-04-22T12:34:54.460794Z",
     "shell.execute_reply": "2024-04-22T12:34:54.459297Z"
    },
    "papermill": {
     "duration": 1.04757,
     "end_time": "2024-04-22T12:34:54.464487",
     "exception": false,
     "start_time": "2024-04-22T12:34:53.416917",
     "status": "completed"
    },
    "tags": []
   },
   "outputs": [
    {
     "data": {
      "text/html": [
       "<style>#sk-container-id-2 {color: black;background-color: white;}#sk-container-id-2 pre{padding: 0;}#sk-container-id-2 div.sk-toggleable {background-color: white;}#sk-container-id-2 label.sk-toggleable__label {cursor: pointer;display: block;width: 100%;margin-bottom: 0;padding: 0.3em;box-sizing: border-box;text-align: center;}#sk-container-id-2 label.sk-toggleable__label-arrow:before {content: \"▸\";float: left;margin-right: 0.25em;color: #696969;}#sk-container-id-2 label.sk-toggleable__label-arrow:hover:before {color: black;}#sk-container-id-2 div.sk-estimator:hover label.sk-toggleable__label-arrow:before {color: black;}#sk-container-id-2 div.sk-toggleable__content {max-height: 0;max-width: 0;overflow: hidden;text-align: left;background-color: #f0f8ff;}#sk-container-id-2 div.sk-toggleable__content pre {margin: 0.2em;color: black;border-radius: 0.25em;background-color: #f0f8ff;}#sk-container-id-2 input.sk-toggleable__control:checked~div.sk-toggleable__content {max-height: 200px;max-width: 100%;overflow: auto;}#sk-container-id-2 input.sk-toggleable__control:checked~label.sk-toggleable__label-arrow:before {content: \"▾\";}#sk-container-id-2 div.sk-estimator input.sk-toggleable__control:checked~label.sk-toggleable__label {background-color: #d4ebff;}#sk-container-id-2 div.sk-label input.sk-toggleable__control:checked~label.sk-toggleable__label {background-color: #d4ebff;}#sk-container-id-2 input.sk-hidden--visually {border: 0;clip: rect(1px 1px 1px 1px);clip: rect(1px, 1px, 1px, 1px);height: 1px;margin: -1px;overflow: hidden;padding: 0;position: absolute;width: 1px;}#sk-container-id-2 div.sk-estimator {font-family: monospace;background-color: #f0f8ff;border: 1px dotted black;border-radius: 0.25em;box-sizing: border-box;margin-bottom: 0.5em;}#sk-container-id-2 div.sk-estimator:hover {background-color: #d4ebff;}#sk-container-id-2 div.sk-parallel-item::after {content: \"\";width: 100%;border-bottom: 1px solid gray;flex-grow: 1;}#sk-container-id-2 div.sk-label:hover label.sk-toggleable__label {background-color: #d4ebff;}#sk-container-id-2 div.sk-serial::before {content: \"\";position: absolute;border-left: 1px solid gray;box-sizing: border-box;top: 0;bottom: 0;left: 50%;z-index: 0;}#sk-container-id-2 div.sk-serial {display: flex;flex-direction: column;align-items: center;background-color: white;padding-right: 0.2em;padding-left: 0.2em;position: relative;}#sk-container-id-2 div.sk-item {position: relative;z-index: 1;}#sk-container-id-2 div.sk-parallel {display: flex;align-items: stretch;justify-content: center;background-color: white;position: relative;}#sk-container-id-2 div.sk-item::before, #sk-container-id-2 div.sk-parallel-item::before {content: \"\";position: absolute;border-left: 1px solid gray;box-sizing: border-box;top: 0;bottom: 0;left: 50%;z-index: -1;}#sk-container-id-2 div.sk-parallel-item {display: flex;flex-direction: column;z-index: 1;position: relative;background-color: white;}#sk-container-id-2 div.sk-parallel-item:first-child::after {align-self: flex-end;width: 50%;}#sk-container-id-2 div.sk-parallel-item:last-child::after {align-self: flex-start;width: 50%;}#sk-container-id-2 div.sk-parallel-item:only-child::after {width: 0;}#sk-container-id-2 div.sk-dashed-wrapped {border: 1px dashed gray;margin: 0 0.4em 0.5em 0.4em;box-sizing: border-box;padding-bottom: 0.4em;background-color: white;}#sk-container-id-2 div.sk-label label {font-family: monospace;font-weight: bold;display: inline-block;line-height: 1.2em;}#sk-container-id-2 div.sk-label-container {text-align: center;}#sk-container-id-2 div.sk-container {/* jupyter's `normalize.less` sets `[hidden] { display: none; }` but bootstrap.min.css set `[hidden] { display: none !important; }` so we also need the `!important` here to be able to override the default hidden behavior on the sphinx rendered scikit-learn.org. See: https://github.com/scikit-learn/scikit-learn/issues/21755 */display: inline-block !important;position: relative;}#sk-container-id-2 div.sk-text-repr-fallback {display: none;}</style><div id=\"sk-container-id-2\" class=\"sk-top-container\"><div class=\"sk-text-repr-fallback\"><pre>LogisticRegression(max_iter=1000, multi_class=&#x27;multinomial&#x27;)</pre><b>In a Jupyter environment, please rerun this cell to show the HTML representation or trust the notebook. <br />On GitHub, the HTML representation is unable to render, please try loading this page with nbviewer.org.</b></div><div class=\"sk-container\" hidden><div class=\"sk-item\"><div class=\"sk-estimator sk-toggleable\"><input class=\"sk-toggleable__control sk-hidden--visually\" id=\"sk-estimator-id-2\" type=\"checkbox\" checked><label for=\"sk-estimator-id-2\" class=\"sk-toggleable__label sk-toggleable__label-arrow\">LogisticRegression</label><div class=\"sk-toggleable__content\"><pre>LogisticRegression(max_iter=1000, multi_class=&#x27;multinomial&#x27;)</pre></div></div></div></div></div>"
      ],
      "text/plain": [
       "LogisticRegression(max_iter=1000, multi_class='multinomial')"
      ]
     },
     "execution_count": 43,
     "metadata": {},
     "output_type": "execute_result"
    }
   ],
   "source": [
    "log_model.fit(X_train, y_train)"
   ]
  },
  {
   "cell_type": "code",
   "execution_count": 44,
   "id": "766ba749",
   "metadata": {
    "execution": {
     "iopub.execute_input": "2024-04-22T12:34:54.520084Z",
     "iopub.status.busy": "2024-04-22T12:34:54.519489Z",
     "iopub.status.idle": "2024-04-22T12:34:54.526623Z",
     "shell.execute_reply": "2024-04-22T12:34:54.525424Z"
    },
    "papermill": {
     "duration": 0.039199,
     "end_time": "2024-04-22T12:34:54.532175",
     "exception": false,
     "start_time": "2024-04-22T12:34:54.492976",
     "status": "completed"
    },
    "tags": []
   },
   "outputs": [],
   "source": [
    "test_pred = log_model.predict(X_test)\n"
   ]
  },
  {
   "cell_type": "code",
   "execution_count": 45,
   "id": "0ca760f4",
   "metadata": {
    "execution": {
     "iopub.execute_input": "2024-04-22T12:34:54.577094Z",
     "iopub.status.busy": "2024-04-22T12:34:54.576682Z",
     "iopub.status.idle": "2024-04-22T12:34:54.583859Z",
     "shell.execute_reply": "2024-04-22T12:34:54.582617Z"
    },
    "papermill": {
     "duration": 0.027422,
     "end_time": "2024-04-22T12:34:54.586471",
     "exception": false,
     "start_time": "2024-04-22T12:34:54.559049",
     "status": "completed"
    },
    "tags": []
   },
   "outputs": [
    {
     "data": {
      "text/plain": [
       "['adhiun', 'l', 'pqo0902']"
      ]
     },
     "execution_count": 45,
     "metadata": {},
     "output_type": "execute_result"
    }
   ],
   "source": [
    "punc.tokenize('[adhiun;;l[pqo0902]')"
   ]
  },
  {
   "cell_type": "code",
   "execution_count": 46,
   "id": "7fdc1602",
   "metadata": {
    "execution": {
     "iopub.execute_input": "2024-04-22T12:34:54.620316Z",
     "iopub.status.busy": "2024-04-22T12:34:54.619171Z",
     "iopub.status.idle": "2024-04-22T12:34:54.627461Z",
     "shell.execute_reply": "2024-04-22T12:34:54.626257Z"
    },
    "papermill": {
     "duration": 0.027783,
     "end_time": "2024-04-22T12:34:54.629800",
     "exception": false,
     "start_time": "2024-04-22T12:34:54.602017",
     "status": "completed"
    },
    "tags": []
   },
   "outputs": [
    {
     "name": "stdout",
     "output_type": "stream",
     "text": [
      "0.9865168539325843\n"
     ]
    }
   ],
   "source": [
    "accuracy = accuracy_score(y_test, test_pred)\n",
    "print(accuracy)"
   ]
  },
  {
   "cell_type": "code",
   "execution_count": 47,
   "id": "1e947ac5",
   "metadata": {
    "execution": {
     "iopub.execute_input": "2024-04-22T12:34:54.663699Z",
     "iopub.status.busy": "2024-04-22T12:34:54.662851Z",
     "iopub.status.idle": "2024-04-22T12:34:54.670274Z",
     "shell.execute_reply": "2024-04-22T12:34:54.669438Z"
    },
    "papermill": {
     "duration": 0.027092,
     "end_time": "2024-04-22T12:34:54.672638",
     "exception": false,
     "start_time": "2024-04-22T12:34:54.645546",
     "status": "completed"
    },
    "tags": []
   },
   "outputs": [],
   "source": [
    "def label_model(data) : \n",
    "    #x = list(data)\n",
    "    #lower case\n",
    "    data = data.lower()\n",
    "    #tokenize the words\n",
    "    tokens = word_tokenize(data)\n",
    "    #stopwords removal\n",
    "    tokens = [w for w in tokens if w not in sw]\n",
    "    #punctutation removal\n",
    "    #tokens = [\"\".join(punc.tokenize(word)) for word in tokens if len(punc.tokenize(word)) > 0]\n",
    "    tokens = \" \".join(tokens)\n",
    "    tokens = punc.tokenize(tokens)\n",
    "    stemmed_tokens = [porter.stem(word) for word in tokens]\n",
    "    #tokens = [lancaster.stem(t) for t in tokens]\n",
    "    #joining back the words\n",
    "    clean_tokens = \" \".join(stemmed_tokens)\n",
    "    return clean_tokens\n",
    "\n",
    "def machine_model(x) :\n",
    "    X = [label_model(x)]\n",
    "    tfidf = tfidf_vect.transform(X)\n",
    "    label = log_model.predict(tfidf)\n",
    "    return label\n",
    "    "
   ]
  },
  {
   "cell_type": "code",
   "execution_count": 48,
   "id": "36ab0e9d",
   "metadata": {
    "execution": {
     "iopub.execute_input": "2024-04-22T12:34:54.706803Z",
     "iopub.status.busy": "2024-04-22T12:34:54.706026Z",
     "iopub.status.idle": "2024-04-22T12:34:54.719882Z",
     "shell.execute_reply": "2024-04-22T12:34:54.718778Z"
    },
    "papermill": {
     "duration": 0.033743,
     "end_time": "2024-04-22T12:34:54.722477",
     "exception": false,
     "start_time": "2024-04-22T12:34:54.688734",
     "status": "completed"
    },
    "tags": []
   },
   "outputs": [
    {
     "data": {
      "text/plain": [
       "array(['sport'], dtype=object)"
      ]
     },
     "execution_count": 48,
     "metadata": {},
     "output_type": "execute_result"
    }
   ],
   "source": [
    "machine_model(\"An Israeli airstrike on a house in Gaza’s southernmost city killed at least nine people, six of them children, hospital authorities said Saturday, as Israel pursued its nearly seven-month offensive in the besieged Palestinian territory.Israel’s war against the Islamic militant group Hamas has led to a dramatic escalation of tensions in an already volatile Middle East. The strike late Friday hit a residential building in the western Tel Sultan neighborhood of the city of Rafah, according to Gaza’s civil defense. The bodies of the six children, two women and a man were taken to Rafah’s Abu Yousef al-Najjar hospital, the hospital’s records showed. At the hospital, relatives cried and hugged the bodies of the children, wrapped in white shrouds, as others comforted them.\")\n"
   ]
  },
  {
   "cell_type": "code",
   "execution_count": null,
   "id": "7b4928de",
   "metadata": {
    "papermill": {
     "duration": 0.014953,
     "end_time": "2024-04-22T12:34:54.753074",
     "exception": false,
     "start_time": "2024-04-22T12:34:54.738121",
     "status": "completed"
    },
    "tags": []
   },
   "outputs": [],
   "source": []
  }
 ],
 "metadata": {
  "kaggle": {
   "accelerator": "none",
   "dataSources": [
    {
     "datasetId": 4731581,
     "sourceId": 8028092,
     "sourceType": "datasetVersion"
    }
   ],
   "dockerImageVersionId": 30684,
   "isGpuEnabled": false,
   "isInternetEnabled": true,
   "language": "python",
   "sourceType": "notebook"
  },
  "kernelspec": {
   "display_name": "Python 3",
   "language": "python",
   "name": "python3"
  },
  "language_info": {
   "codemirror_mode": {
    "name": "ipython",
    "version": 3
   },
   "file_extension": ".py",
   "mimetype": "text/x-python",
   "name": "python",
   "nbconvert_exporter": "python",
   "pygments_lexer": "ipython3",
   "version": "3.10.13"
  },
  "papermill": {
   "default_parameters": {},
   "duration": 37.129544,
   "end_time": "2024-04-22T12:34:55.491024",
   "environment_variables": {},
   "exception": null,
   "input_path": "__notebook__.ipynb",
   "output_path": "__notebook__.ipynb",
   "parameters": {},
   "start_time": "2024-04-22T12:34:18.361480",
   "version": "2.5.0"
  }
 },
 "nbformat": 4,
 "nbformat_minor": 5
}
