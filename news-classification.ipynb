{
 "cells": [
  {
   "cell_type": "code",
   "execution_count": 1,
   "id": "02655098",
   "metadata": {
    "_cell_guid": "b1076dfc-b9ad-4769-8c92-a6c4dae69d19",
    "_uuid": "8f2839f25d086af736a60e9eeb907d3b93b6e0e5",
    "execution": {
     "iopub.execute_input": "2024-05-04T13:54:16.550198Z",
     "iopub.status.busy": "2024-05-04T13:54:16.549659Z",
     "iopub.status.idle": "2024-05-04T13:54:17.492101Z",
     "shell.execute_reply": "2024-05-04T13:54:17.490901Z"
    },
    "papermill": {
     "duration": 0.958098,
     "end_time": "2024-05-04T13:54:17.494942",
     "exception": false,
     "start_time": "2024-05-04T13:54:16.536844",
     "status": "completed"
    },
    "tags": []
   },
   "outputs": [
    {
     "name": "stdout",
     "output_type": "stream",
     "text": [
      "/kaggle/input/bbc-full-text-document-classification/bbc_data.csv\n"
     ]
    }
   ],
   "source": [
    "# This Python 3 environment comes with many helpful analytics libraries installed\n",
    "# It is defined by the kaggle/python Docker image: https://github.com/kaggle/docker-python\n",
    "# For example, here's several helpful packages to load\n",
    "\n",
    "import numpy as np # linear algebra\n",
    "import pandas as pd # data processing, CSV file I/O (e.g. pd.read_csv)\n",
    "\n",
    "# Input data files are available in the read-only \"../input/\" directory\n",
    "# For example, running this (by clicking run or pressing Shift+Enter) will list all files under the input directory\n",
    "\n",
    "import os\n",
    "for dirname, _, filenames in os.walk('/kaggle/input'):\n",
    "    for filename in filenames:\n",
    "        print(os.path.join(dirname, filename))\n",
    "\n",
    "# You can write up to 20GB to the current directory (/kaggle/working/) that gets preserved as output when you create a version using \"Save & Run All\" \n",
    "# You can also write temporary files to /kaggle/temp/, but they won't be saved outside of the current session"
   ]
  },
  {
   "cell_type": "code",
   "execution_count": 2,
   "id": "c3beb2b7",
   "metadata": {
    "execution": {
     "iopub.execute_input": "2024-05-04T13:54:17.519765Z",
     "iopub.status.busy": "2024-05-04T13:54:17.518666Z",
     "iopub.status.idle": "2024-05-04T13:54:17.643474Z",
     "shell.execute_reply": "2024-05-04T13:54:17.642542Z"
    },
    "papermill": {
     "duration": 0.139584,
     "end_time": "2024-05-04T13:54:17.645973",
     "exception": false,
     "start_time": "2024-05-04T13:54:17.506389",
     "status": "completed"
    },
    "tags": []
   },
   "outputs": [
    {
     "data": {
      "text/html": [
       "<div>\n",
       "<style scoped>\n",
       "    .dataframe tbody tr th:only-of-type {\n",
       "        vertical-align: middle;\n",
       "    }\n",
       "\n",
       "    .dataframe tbody tr th {\n",
       "        vertical-align: top;\n",
       "    }\n",
       "\n",
       "    .dataframe thead th {\n",
       "        text-align: right;\n",
       "    }\n",
       "</style>\n",
       "<table border=\"1\" class=\"dataframe\">\n",
       "  <thead>\n",
       "    <tr style=\"text-align: right;\">\n",
       "      <th></th>\n",
       "      <th>data</th>\n",
       "      <th>labels</th>\n",
       "    </tr>\n",
       "  </thead>\n",
       "  <tbody>\n",
       "    <tr>\n",
       "      <th>0</th>\n",
       "      <td>Musicians to tackle US red tape  Musicians gro...</td>\n",
       "      <td>entertainment</td>\n",
       "    </tr>\n",
       "    <tr>\n",
       "      <th>1</th>\n",
       "      <td>U2s desire to be number one  U2, who have won ...</td>\n",
       "      <td>entertainment</td>\n",
       "    </tr>\n",
       "    <tr>\n",
       "      <th>2</th>\n",
       "      <td>Rocker Doherty in on-stage fight  Rock singer ...</td>\n",
       "      <td>entertainment</td>\n",
       "    </tr>\n",
       "    <tr>\n",
       "      <th>3</th>\n",
       "      <td>Snicket tops US box office chart  The film ada...</td>\n",
       "      <td>entertainment</td>\n",
       "    </tr>\n",
       "    <tr>\n",
       "      <th>4</th>\n",
       "      <td>Oceans Twelve raids box office  Oceans Twelve,...</td>\n",
       "      <td>entertainment</td>\n",
       "    </tr>\n",
       "    <tr>\n",
       "      <th>...</th>\n",
       "      <td>...</td>\n",
       "      <td>...</td>\n",
       "    </tr>\n",
       "    <tr>\n",
       "      <th>2220</th>\n",
       "      <td>Warning over Windows Word files  Writing a Mic...</td>\n",
       "      <td>tech</td>\n",
       "    </tr>\n",
       "    <tr>\n",
       "      <th>2221</th>\n",
       "      <td>Fast lifts rise into record books  Two high-sp...</td>\n",
       "      <td>tech</td>\n",
       "    </tr>\n",
       "    <tr>\n",
       "      <th>2222</th>\n",
       "      <td>Nintendo adds media playing to DS  Nintendo is...</td>\n",
       "      <td>tech</td>\n",
       "    </tr>\n",
       "    <tr>\n",
       "      <th>2223</th>\n",
       "      <td>Fast moving phone viruses appear  Security fir...</td>\n",
       "      <td>tech</td>\n",
       "    </tr>\n",
       "    <tr>\n",
       "      <th>2224</th>\n",
       "      <td>Hacker threat to Apples iTunes  Users of Apple...</td>\n",
       "      <td>tech</td>\n",
       "    </tr>\n",
       "  </tbody>\n",
       "</table>\n",
       "<p>2225 rows × 2 columns</p>\n",
       "</div>"
      ],
      "text/plain": [
       "                                                   data         labels\n",
       "0     Musicians to tackle US red tape  Musicians gro...  entertainment\n",
       "1     U2s desire to be number one  U2, who have won ...  entertainment\n",
       "2     Rocker Doherty in on-stage fight  Rock singer ...  entertainment\n",
       "3     Snicket tops US box office chart  The film ada...  entertainment\n",
       "4     Oceans Twelve raids box office  Oceans Twelve,...  entertainment\n",
       "...                                                 ...            ...\n",
       "2220  Warning over Windows Word files  Writing a Mic...           tech\n",
       "2221  Fast lifts rise into record books  Two high-sp...           tech\n",
       "2222  Nintendo adds media playing to DS  Nintendo is...           tech\n",
       "2223  Fast moving phone viruses appear  Security fir...           tech\n",
       "2224  Hacker threat to Apples iTunes  Users of Apple...           tech\n",
       "\n",
       "[2225 rows x 2 columns]"
      ]
     },
     "execution_count": 2,
     "metadata": {},
     "output_type": "execute_result"
    }
   ],
   "source": [
    "df = pd.read_csv('/kaggle/input/bbc-full-text-document-classification/bbc_data.csv')\n",
    "df.head(10000)"
   ]
  },
  {
   "cell_type": "code",
   "execution_count": 3,
   "id": "97982e1b",
   "metadata": {
    "execution": {
     "iopub.execute_input": "2024-05-04T13:54:17.670575Z",
     "iopub.status.busy": "2024-05-04T13:54:17.670148Z",
     "iopub.status.idle": "2024-05-04T13:54:37.107409Z",
     "shell.execute_reply": "2024-05-04T13:54:37.106025Z"
    },
    "papermill": {
     "duration": 19.452754,
     "end_time": "2024-05-04T13:54:37.110380",
     "exception": false,
     "start_time": "2024-05-04T13:54:17.657626",
     "status": "completed"
    },
    "tags": []
   },
   "outputs": [],
   "source": [
    "import pickle\n",
    "from collections import Counter\n",
    "import matplotlib.pyplot as plt\n",
    "import seaborn as sns\n",
    "\n",
    "import nltk\n",
    "from nltk.corpus import stopwords\n",
    "from nltk.stem import PorterStemmer, LancasterStemmer\n",
    "from nltk.tokenize import sent_tokenize, word_tokenize, RegexpTokenizer\n",
    "import gensim\n",
    "from gensim.models import Word2Vec\n",
    "\n",
    "from sklearn.metrics import accuracy_score\n",
    "from sklearn.linear_model import LogisticRegression\n",
    "from sklearn.model_selection import train_test_split\n",
    "from sklearn.feature_extraction.text import CountVectorizer, TfidfVectorizer\n",
    "from category_encoders import OneHotEncoder\n",
    "from sklearn.ensemble import RandomForestClassifier\n",
    "\n",
    "%matplotlib inline"
   ]
  },
  {
   "cell_type": "code",
   "execution_count": 4,
   "id": "7f2f1c19",
   "metadata": {
    "execution": {
     "iopub.execute_input": "2024-05-04T13:54:37.135131Z",
     "iopub.status.busy": "2024-05-04T13:54:37.134389Z",
     "iopub.status.idle": "2024-05-04T13:54:37.144144Z",
     "shell.execute_reply": "2024-05-04T13:54:37.142890Z"
    },
    "papermill": {
     "duration": 0.024658,
     "end_time": "2024-05-04T13:54:37.146529",
     "exception": false,
     "start_time": "2024-05-04T13:54:37.121871",
     "status": "completed"
    },
    "tags": []
   },
   "outputs": [
    {
     "data": {
      "text/plain": [
       "'Musicians to tackle US red tape  Musicians groups are to tackle US visa regulations which are blamed for hindering British acts chances of succeeding across the Atlantic.  A singer hoping to perform in the US can expect to pay $1,300 (xc2xa3680) simply for obtaining a visa. Groups including the Musicians Union are calling for an end to the \"raw deal\" faced by British performers. US acts are not faced with comparable expense and bureaucracy when visiting the UK for promotional purposes.  Nigel McCune from the Musicians Union said British musicians are \"disadvantaged\" compared to their US counterparts. A sponsor has to make a petition on their behalf, which is a form amounting to nearly 30 pages, while musicians face tougher regulations than athletes and journalists. \"If you make a mistake on your form, you risk a five-year ban and thus the ability to further your career,\" says Mr McCune.  \"The US is the worlds biggest music market, which means something has to be done about the creaky bureaucracy,\" says Mr McCune. \"The current situation is preventing British acts from maintaining momentum and developing in the US,\" he added.  The Musicians Union stance is being endorsed by the Music Managers Forum (MMF), who say British artists face \"an uphill struggle\" to succeed in the US, thanks to the tough visa requirements, which are also seen as impractical. The MMFs general secretary James Seller said: \"Imagine if you were an orchestra from the Orkneys? Every member would have to travel to London to have their visas processed.\"  \"The US market is seen as the holy grail and one of the benchmarks of success, and were still going to fight to get in there. \"Its still very important, but there are other markets like Europe, India and China,\" added Mr Seller. A Department for Media, Culture and Sport spokeswoman said: \"Were aware that people are experiencing problems, and are working with the US embassy and record industry to see what we can do about it.\" A US Embassy spokesman said: \"We are aware that entertainers require visas for time-specific visas and are doing everything we can to process those applications speedily.\" \"We are aware of the importance of cultural exchange and we will do our best to facilitate that,\" he added. '"
      ]
     },
     "execution_count": 4,
     "metadata": {},
     "output_type": "execute_result"
    }
   ],
   "source": [
    "df.loc[0,'data']"
   ]
  },
  {
   "cell_type": "code",
   "execution_count": 5,
   "id": "e28d983b",
   "metadata": {
    "execution": {
     "iopub.execute_input": "2024-05-04T13:54:37.171585Z",
     "iopub.status.busy": "2024-05-04T13:54:37.171165Z",
     "iopub.status.idle": "2024-05-04T13:54:37.182341Z",
     "shell.execute_reply": "2024-05-04T13:54:37.181234Z"
    },
    "papermill": {
     "duration": 0.026446,
     "end_time": "2024-05-04T13:54:37.184582",
     "exception": false,
     "start_time": "2024-05-04T13:54:37.158136",
     "status": "completed"
    },
    "tags": []
   },
   "outputs": [
    {
     "data": {
      "text/plain": [
       "array(['entertainment', 'business', 'sport', 'politics', 'tech'],\n",
       "      dtype=object)"
      ]
     },
     "execution_count": 5,
     "metadata": {},
     "output_type": "execute_result"
    }
   ],
   "source": [
    "df['labels'].unique()"
   ]
  },
  {
   "cell_type": "code",
   "execution_count": 6,
   "id": "f405bd99",
   "metadata": {
    "execution": {
     "iopub.execute_input": "2024-05-04T13:54:37.209270Z",
     "iopub.status.busy": "2024-05-04T13:54:37.208794Z",
     "iopub.status.idle": "2024-05-04T13:54:37.479638Z",
     "shell.execute_reply": "2024-05-04T13:54:37.478302Z"
    },
    "papermill": {
     "duration": 0.286165,
     "end_time": "2024-05-04T13:54:37.482304",
     "exception": false,
     "start_time": "2024-05-04T13:54:37.196139",
     "status": "completed"
    },
    "tags": []
   },
   "outputs": [
    {
     "data": {
      "image/png": "[encoded data removed]",
      "text/plain": [
       "<Figure size 640x480 with 1 Axes>"
      ]
     },
     "metadata": {},
     "output_type": "display_data"
    }
   ],
   "source": [
    "sns.countplot(x = 'labels',data = df)\n",
    "plt.show()"
   ]
  },
  {
   "cell_type": "markdown",
   "id": "c5503856",
   "metadata": {
    "papermill": {
     "duration": 0.011407,
     "end_time": "2024-05-04T13:54:37.506682",
     "exception": false,
     "start_time": "2024-05-04T13:54:37.495275",
     "status": "completed"
    },
    "tags": []
   },
   "source": [
    "## **Pre-processing**"
   ]
  },
  {
   "cell_type": "code",
   "execution_count": 7,
   "id": "6f94a28e",
   "metadata": {
    "execution": {
     "iopub.execute_input": "2024-05-04T13:54:37.532091Z",
     "iopub.status.busy": "2024-05-04T13:54:37.531607Z",
     "iopub.status.idle": "2024-05-04T13:54:37.537836Z",
     "shell.execute_reply": "2024-05-04T13:54:37.536539Z"
    },
    "papermill": {
     "duration": 0.021864,
     "end_time": "2024-05-04T13:54:37.540459",
     "exception": false,
     "start_time": "2024-05-04T13:54:37.518595",
     "status": "completed"
    },
    "tags": []
   },
   "outputs": [],
   "source": [
    "data = list(df['data']) #Converting input data to list"
   ]
  },
  {
   "cell_type": "code",
   "execution_count": 8,
   "id": "2b1c0d81",
   "metadata": {
    "execution": {
     "iopub.execute_input": "2024-05-04T13:54:37.567962Z",
     "iopub.status.busy": "2024-05-04T13:54:37.567264Z",
     "iopub.status.idle": "2024-05-04T13:54:37.576902Z",
     "shell.execute_reply": "2024-05-04T13:54:37.575909Z"
    },
    "papermill": {
     "duration": 0.026263,
     "end_time": "2024-05-04T13:54:37.579276",
     "exception": false,
     "start_time": "2024-05-04T13:54:37.553013",
     "status": "completed"
    },
    "tags": []
   },
   "outputs": [],
   "source": [
    "data_lower = [a.lower() for a in data] #lower case"
   ]
  },
  {
   "cell_type": "code",
   "execution_count": 9,
   "id": "ad6d1773",
   "metadata": {
    "execution": {
     "iopub.execute_input": "2024-05-04T13:54:37.605034Z",
     "iopub.status.busy": "2024-05-04T13:54:37.604255Z",
     "iopub.status.idle": "2024-05-04T13:54:50.048043Z",
     "shell.execute_reply": "2024-05-04T13:54:50.046914Z"
    },
    "papermill": {
     "duration": 12.460149,
     "end_time": "2024-05-04T13:54:50.051343",
     "exception": false,
     "start_time": "2024-05-04T13:54:37.591194",
     "status": "completed"
    },
    "tags": []
   },
   "outputs": [],
   "source": [
    "tokens = [word_tokenize(a) for a in data_lower] #word tokenize every document in the corpus"
   ]
  },
  {
   "cell_type": "code",
   "execution_count": 10,
   "id": "c0ab72f4",
   "metadata": {
    "execution": {
     "iopub.execute_input": "2024-05-04T13:54:50.077296Z",
     "iopub.status.busy": "2024-05-04T13:54:50.076836Z",
     "iopub.status.idle": "2024-05-04T13:54:50.095824Z",
     "shell.execute_reply": "2024-05-04T13:54:50.094547Z"
    },
    "papermill": {
     "duration": 0.034916,
     "end_time": "2024-05-04T13:54:50.098279",
     "exception": false,
     "start_time": "2024-05-04T13:54:50.063363",
     "status": "completed"
    },
    "tags": []
   },
   "outputs": [
    {
     "data": {
      "text/plain": [
       "['i', 'me', 'my', 'myself', 'we', 'our', 'ours', 'ourselves', 'you', \"you're\"]"
      ]
     },
     "execution_count": 10,
     "metadata": {},
     "output_type": "execute_result"
    }
   ],
   "source": [
    "sw = stopwords.words('english')\n",
    "sw[:10]"
   ]
  },
  {
   "cell_type": "code",
   "execution_count": 11,
   "id": "ef7fe5ed",
   "metadata": {
    "execution": {
     "iopub.execute_input": "2024-05-04T13:54:50.124281Z",
     "iopub.status.busy": "2024-05-04T13:54:50.123774Z",
     "iopub.status.idle": "2024-05-04T13:54:52.241253Z",
     "shell.execute_reply": "2024-05-04T13:54:52.239999Z"
    },
    "papermill": {
     "duration": 2.133982,
     "end_time": "2024-05-04T13:54:52.244241",
     "exception": false,
     "start_time": "2024-05-04T13:54:50.110259",
     "status": "completed"
    },
    "tags": []
   },
   "outputs": [],
   "source": [
    "tokens = [[w for w in t if w not in sw] for t in tokens] #Removing stopwords"
   ]
  },
  {
   "cell_type": "code",
   "execution_count": 12,
   "id": "a08c1b11",
   "metadata": {
    "execution": {
     "iopub.execute_input": "2024-05-04T13:54:52.270920Z",
     "iopub.status.busy": "2024-05-04T13:54:52.270537Z",
     "iopub.status.idle": "2024-05-04T13:54:52.275315Z",
     "shell.execute_reply": "2024-05-04T13:54:52.274178Z"
    },
    "papermill": {
     "duration": 0.02027,
     "end_time": "2024-05-04T13:54:52.277433",
     "exception": false,
     "start_time": "2024-05-04T13:54:52.257163",
     "status": "completed"
    },
    "tags": []
   },
   "outputs": [],
   "source": [
    "punc = RegexpTokenizer(r'\\w+') #Initialize regular expressions tokenizer"
   ]
  },
  {
   "cell_type": "code",
   "execution_count": 13,
   "id": "b71b5439",
   "metadata": {
    "execution": {
     "iopub.execute_input": "2024-05-04T13:54:52.303974Z",
     "iopub.status.busy": "2024-05-04T13:54:52.302680Z",
     "iopub.status.idle": "2024-05-04T13:54:53.641355Z",
     "shell.execute_reply": "2024-05-04T13:54:53.639748Z"
    },
    "papermill": {
     "duration": 1.355175,
     "end_time": "2024-05-04T13:54:53.644605",
     "exception": false,
     "start_time": "2024-05-04T13:54:52.289430",
     "status": "completed"
    },
    "tags": []
   },
   "outputs": [],
   "source": [
    "#Removing puctuations\n",
    "tokens = [[\"\".join(punc.tokenize(word)) for word in t if len(punc.tokenize(word)) > 0] for t in tokens]"
   ]
  },
  {
   "cell_type": "code",
   "execution_count": 14,
   "id": "dbf67942",
   "metadata": {
    "execution": {
     "iopub.execute_input": "2024-05-04T13:54:53.670391Z",
     "iopub.status.busy": "2024-05-04T13:54:53.669950Z",
     "iopub.status.idle": "2024-05-04T13:54:53.675526Z",
     "shell.execute_reply": "2024-05-04T13:54:53.674301Z"
    },
    "papermill": {
     "duration": 0.021613,
     "end_time": "2024-05-04T13:54:53.678261",
     "exception": false,
     "start_time": "2024-05-04T13:54:53.656648",
     "status": "completed"
    },
    "tags": []
   },
   "outputs": [],
   "source": [
    "#Initialize Stemmer\n",
    "porter = PorterStemmer()\n",
    "lancaster = LancasterStemmer()"
   ]
  },
  {
   "cell_type": "code",
   "execution_count": 15,
   "id": "c079ceb1",
   "metadata": {
    "execution": {
     "iopub.execute_input": "2024-05-04T13:54:53.704441Z",
     "iopub.status.busy": "2024-05-04T13:54:53.704042Z",
     "iopub.status.idle": "2024-05-04T13:55:12.928703Z",
     "shell.execute_reply": "2024-05-04T13:55:12.927651Z"
    },
    "papermill": {
     "duration": 19.240946,
     "end_time": "2024-05-04T13:55:12.931464",
     "exception": false,
     "start_time": "2024-05-04T13:54:53.690518",
     "status": "completed"
    },
    "tags": []
   },
   "outputs": [],
   "source": [
    "tokens = [[porter.stem(word) for word in t] for t in tokens] #Stemming "
   ]
  },
  {
   "cell_type": "code",
   "execution_count": 16,
   "id": "6085e4f4",
   "metadata": {
    "execution": {
     "iopub.execute_input": "2024-05-04T13:55:12.957775Z",
     "iopub.status.busy": "2024-05-04T13:55:12.957384Z",
     "iopub.status.idle": "2024-05-04T13:55:12.962298Z",
     "shell.execute_reply": "2024-05-04T13:55:12.961113Z"
    },
    "papermill": {
     "duration": 0.020766,
     "end_time": "2024-05-04T13:55:12.964590",
     "exception": false,
     "start_time": "2024-05-04T13:55:12.943824",
     "status": "completed"
    },
    "tags": []
   },
   "outputs": [],
   "source": [
    "y = df['labels']"
   ]
  },
  {
   "cell_type": "code",
   "execution_count": 17,
   "id": "4fb02a77",
   "metadata": {
    "execution": {
     "iopub.execute_input": "2024-05-04T13:55:12.990919Z",
     "iopub.status.busy": "2024-05-04T13:55:12.990523Z",
     "iopub.status.idle": "2024-05-04T13:55:13.021644Z",
     "shell.execute_reply": "2024-05-04T13:55:13.020404Z"
    },
    "papermill": {
     "duration": 0.046884,
     "end_time": "2024-05-04T13:55:13.024061",
     "exception": false,
     "start_time": "2024-05-04T13:55:12.977177",
     "status": "completed"
    },
    "tags": []
   },
   "outputs": [],
   "source": [
    "clean_data = [\" \".join(doc) for doc in tokens]"
   ]
  },
  {
   "cell_type": "markdown",
   "id": "45cf5fc8",
   "metadata": {
    "papermill": {
     "duration": 0.011496,
     "end_time": "2024-05-04T13:55:13.047539",
     "exception": false,
     "start_time": "2024-05-04T13:55:13.036043",
     "status": "completed"
    },
    "tags": []
   },
   "source": [
    "## Word2Vec for word embedding"
   ]
  },
  {
   "cell_type": "code",
   "execution_count": 18,
   "id": "7bc3a3d4",
   "metadata": {
    "execution": {
     "iopub.execute_input": "2024-05-04T13:55:13.074094Z",
     "iopub.status.busy": "2024-05-04T13:55:13.073518Z",
     "iopub.status.idle": "2024-05-04T13:55:13.081377Z",
     "shell.execute_reply": "2024-05-04T13:55:13.080120Z"
    },
    "papermill": {
     "duration": 0.02399,
     "end_time": "2024-05-04T13:55:13.083735",
     "exception": false,
     "start_time": "2024-05-04T13:55:13.059745",
     "status": "completed"
    },
    "tags": []
   },
   "outputs": [
    {
     "data": {
      "text/plain": [
       "['musician tackl us red tape musician group tackl us visa regul blame hinder british act chanc succeed across atlant singer hope perform us expect pay 1300 xc2xa3680 simpli obtain visa group includ musician union call end raw deal face british perform us act face compar expens bureaucraci visit uk promot purpos nigel mccune musician union said british musician disadvantag compar us counterpart sponsor make petit behalf form amount nearli 30 page musician face tougher regul athlet journalist make mistak form risk fiveyear ban thu abil career say mr mccune us world biggest music market mean someth done creaki bureaucraci say mr mccune current situat prevent british act maintain momentum develop us ad musician union stanc endors music manag forum mmf say british artist face uphil struggl succeed us thank tough visa requir also seen impract mmf gener secretari jame seller said imagin orchestra orkney everi member would travel london visa process us market seen holi grail one benchmark success still go fight get still import market like europ india china ad mr seller depart media cultur sport spokeswoman said awar peopl experienc problem work us embassi record industri see us embassi spokesman said awar entertain requir visa timespecif visa everyth process applic speedili awar import cultur exchang best facilit ad']"
      ]
     },
     "execution_count": 18,
     "metadata": {},
     "output_type": "execute_result"
    }
   ],
   "source": [
    "clean_data[:1]"
   ]
  },
  {
   "cell_type": "code",
   "execution_count": 19,
   "id": "e1f2f689",
   "metadata": {
    "execution": {
     "iopub.execute_input": "2024-05-04T13:55:13.110447Z",
     "iopub.status.busy": "2024-05-04T13:55:13.109328Z",
     "iopub.status.idle": "2024-05-04T13:55:40.525070Z",
     "shell.execute_reply": "2024-05-04T13:55:40.524144Z"
    },
    "papermill": {
     "duration": 27.431961,
     "end_time": "2024-05-04T13:55:40.527876",
     "exception": false,
     "start_time": "2024-05-04T13:55:13.095915",
     "status": "completed"
    },
    "tags": []
   },
   "outputs": [],
   "source": [
    "model = Word2Vec(tokens, min_count = 2, sg = 1, window = 3, epochs = 20) #Creating word vectors for every word in the corpus"
   ]
  },
  {
   "cell_type": "code",
   "execution_count": 20,
   "id": "4b8dbce8",
   "metadata": {
    "execution": {
     "iopub.execute_input": "2024-05-04T13:55:40.554082Z",
     "iopub.status.busy": "2024-05-04T13:55:40.553637Z",
     "iopub.status.idle": "2024-05-04T13:55:40.562005Z",
     "shell.execute_reply": "2024-05-04T13:55:40.560828Z"
    },
    "papermill": {
     "duration": 0.02453,
     "end_time": "2024-05-04T13:55:40.564525",
     "exception": false,
     "start_time": "2024-05-04T13:55:40.539995",
     "status": "completed"
    },
    "tags": []
   },
   "outputs": [
    {
     "data": {
      "text/plain": [
       "array([ 0.09174771,  0.2739254 , -0.06154114,  0.38640195, -0.211701  ,\n",
       "       -0.38124356, -0.47346953,  0.07874634,  0.15067188, -0.44155204,\n",
       "        0.04634648, -0.00338647, -0.15467347,  0.02448644, -0.5715528 ,\n",
       "        0.05016585, -0.11539923,  0.2215686 ,  0.39553842, -0.4477455 ,\n",
       "        0.2660909 , -0.01347601,  0.2658389 , -1.2344078 , -0.06208859,\n",
       "        1.1013414 , -0.10050061,  0.10563032, -0.34372345,  0.5193917 ,\n",
       "        0.3324607 ,  0.6704717 , -0.18669687, -0.6809634 ,  0.77835065,\n",
       "        0.4951756 ,  0.43408057, -0.67552483,  0.45794818, -1.1311923 ,\n",
       "       -0.18808863, -1.0808008 , -0.35360673, -0.3857884 , -0.04413404,\n",
       "       -0.18390632, -0.19144206, -0.1145611 ,  0.10323571,  0.01841777,\n",
       "       -0.600315  , -0.37930208, -0.72474337, -0.04762606,  0.07504614,\n",
       "        0.11916987,  0.24466453, -0.20333168, -0.34584606, -0.07815695,\n",
       "        0.08893977,  0.09079879, -0.29302028, -0.05623476,  0.22348766,\n",
       "        0.16809855, -0.12584805, -0.05928193,  0.45189896,  0.5211329 ,\n",
       "       -0.3774303 , -0.66539055,  0.40734875,  0.13492763,  0.506069  ,\n",
       "       -0.3454775 ,  0.16545635,  0.30579594, -0.4540329 ,  0.24020885,\n",
       "        0.6999812 ,  0.31965876, -0.32208467,  0.88289845,  0.1716756 ,\n",
       "       -0.73260516,  0.38410383, -0.14679064,  0.08100919, -0.16460857,\n",
       "        0.5502581 ,  0.01932091, -0.22717798, -0.3945805 ,  0.20543611,\n",
       "        0.91787606,  0.25051823,  0.18179132, -0.11197249, -0.25402346],\n",
       "      dtype=float32)"
      ]
     },
     "execution_count": 20,
     "metadata": {},
     "output_type": "execute_result"
    }
   ],
   "source": [
    "model.wv['journalist'] "
   ]
  },
  {
   "cell_type": "code",
   "execution_count": 21,
   "id": "1aacac25",
   "metadata": {
    "execution": {
     "iopub.execute_input": "2024-05-04T13:55:40.591572Z",
     "iopub.status.busy": "2024-05-04T13:55:40.590716Z",
     "iopub.status.idle": "2024-05-04T13:55:40.611143Z",
     "shell.execute_reply": "2024-05-04T13:55:40.609934Z"
    },
    "papermill": {
     "duration": 0.038132,
     "end_time": "2024-05-04T13:55:40.615042",
     "exception": false,
     "start_time": "2024-05-04T13:55:40.576910",
     "status": "completed"
    },
    "tags": []
   },
   "outputs": [
    {
     "data": {
      "text/plain": [
       "[('covert', 0.6195148229598999),\n",
       " ('yougov', 0.6030336618423462),\n",
       " ('privileg', 0.5728667378425598),\n",
       " ('contempt', 0.5586951375007629),\n",
       " ('serialis', 0.5586596131324768),\n",
       " ('speechwrit', 0.5537557005882263),\n",
       " ('prematch', 0.5533537864685059),\n",
       " ('appleinsidercom', 0.5521729588508606),\n",
       " ('telegraph', 0.5486298203468323),\n",
       " ('scotsman', 0.5475577116012573)]"
      ]
     },
     "execution_count": 21,
     "metadata": {},
     "output_type": "execute_result"
    }
   ],
   "source": [
    "model.wv.most_similar('journalist')"
   ]
  },
  {
   "cell_type": "code",
   "execution_count": 22,
   "id": "1d3112a7",
   "metadata": {
    "execution": {
     "iopub.execute_input": "2024-05-04T13:55:40.670009Z",
     "iopub.status.busy": "2024-05-04T13:55:40.669297Z",
     "iopub.status.idle": "2024-05-04T13:55:50.071507Z",
     "shell.execute_reply": "2024-05-04T13:55:50.070424Z"
    },
    "papermill": {
     "duration": 9.433002,
     "end_time": "2024-05-04T13:55:50.074276",
     "exception": false,
     "start_time": "2024-05-04T13:55:40.641274",
     "status": "completed"
    },
    "tags": []
   },
   "outputs": [],
   "source": [
    "#Word vectors for every sentence in the corpus\n",
    "sentences = [np.mean([model.wv[word] for word in sentence if word in model.wv], axis = 0) for sentence in clean_data]"
   ]
  },
  {
   "cell_type": "code",
   "execution_count": 23,
   "id": "303d8b17",
   "metadata": {
    "execution": {
     "iopub.execute_input": "2024-05-04T13:55:50.101498Z",
     "iopub.status.busy": "2024-05-04T13:55:50.100706Z",
     "iopub.status.idle": "2024-05-04T13:55:50.109252Z",
     "shell.execute_reply": "2024-05-04T13:55:50.107973Z"
    },
    "papermill": {
     "duration": 0.024764,
     "end_time": "2024-05-04T13:55:50.111517",
     "exception": false,
     "start_time": "2024-05-04T13:55:50.086753",
     "status": "completed"
    },
    "tags": []
   },
   "outputs": [
    {
     "data": {
      "text/plain": [
       "[array([ 0.11131379,  0.33423698, -0.01433905, -0.36608416,  0.03810572,\n",
       "        -0.02021182, -0.09888846,  0.27670035,  0.07887901, -0.01355606,\n",
       "        -0.08729669, -0.23755534,  0.2716211 ,  0.62186277, -0.5241147 ,\n",
       "        -0.0756283 , -0.5616546 , -0.0342936 , -0.05534667, -0.00924473,\n",
       "        -0.03796307,  0.3298536 , -0.13428926, -0.2518963 , -0.01003838,\n",
       "        -0.05893267,  0.36557555, -0.0773443 , -0.27241433,  0.0444259 ,\n",
       "         0.29576004,  0.08287109, -0.22102447, -0.21127754, -0.21435468,\n",
       "        -0.27771348, -0.05670519,  0.0656731 ,  0.14292674, -0.3876065 ,\n",
       "         0.15326123, -0.36663353, -0.08135994, -0.48177525,  0.16588792,\n",
       "        -0.03419543,  0.16611384,  0.36408216, -0.03292025,  0.27399203,\n",
       "        -0.08290242, -0.69852483, -0.3281451 ,  0.04467904, -0.20186022,\n",
       "        -0.38026503, -0.06811058, -0.2597194 , -0.27165145, -0.08841837,\n",
       "         0.23210715,  0.1995183 ,  0.15803623,  0.35625297, -0.03554969,\n",
       "         0.2108286 , -0.3361423 , -0.19998783,  0.02366544,  0.1523265 ,\n",
       "        -0.12672178,  0.06314267,  0.02584349, -0.15498109,  0.02315184,\n",
       "        -0.03602362, -0.4018982 , -0.08144872, -0.32713625,  0.30761838,\n",
       "         0.3199372 , -0.04650098, -0.2104959 ,  0.4075323 ,  0.17527026,\n",
       "         0.28696576, -0.15241803,  0.11858448, -0.15478419,  0.27069634,\n",
       "        -0.15087391, -0.27049398,  0.36990374,  0.31146666, -0.05657043,\n",
       "        -0.04400417,  0.02742812, -0.32095483,  0.13674793,  0.1284893 ],\n",
       "       dtype=float32)]"
      ]
     },
     "execution_count": 23,
     "metadata": {},
     "output_type": "execute_result"
    }
   ],
   "source": [
    "sentences[:1]"
   ]
  },
  {
   "cell_type": "code",
   "execution_count": 24,
   "id": "b1d5b3ad",
   "metadata": {
    "execution": {
     "iopub.execute_input": "2024-05-04T13:55:50.139209Z",
     "iopub.status.busy": "2024-05-04T13:55:50.138779Z",
     "iopub.status.idle": "2024-05-04T13:55:50.151941Z",
     "shell.execute_reply": "2024-05-04T13:55:50.150850Z"
    },
    "papermill": {
     "duration": 0.030204,
     "end_time": "2024-05-04T13:55:50.154947",
     "exception": false,
     "start_time": "2024-05-04T13:55:50.124743",
     "status": "completed"
    },
    "tags": []
   },
   "outputs": [],
   "source": [
    "X_train, X_test, y_train, y_test = train_test_split(sentences, y, stratify = y, random_state = 42, test_size = 0.2)"
   ]
  },
  {
   "cell_type": "code",
   "execution_count": 25,
   "id": "6bc7c292",
   "metadata": {
    "execution": {
     "iopub.execute_input": "2024-05-04T13:55:50.183293Z",
     "iopub.status.busy": "2024-05-04T13:55:50.182297Z",
     "iopub.status.idle": "2024-05-04T13:55:50.191414Z",
     "shell.execute_reply": "2024-05-04T13:55:50.190262Z"
    },
    "papermill": {
     "duration": 0.02582,
     "end_time": "2024-05-04T13:55:50.193958",
     "exception": false,
     "start_time": "2024-05-04T13:55:50.168138",
     "status": "completed"
    },
    "tags": []
   },
   "outputs": [
    {
     "data": {
      "text/plain": [
       "[array([ 0.12312634,  0.3554995 , -0.02233615, -0.3878629 ,  0.04462171,\n",
       "        -0.0013602 , -0.1010579 ,  0.28991655,  0.07650281, -0.01984969,\n",
       "        -0.08417843, -0.23246942,  0.27742323,  0.6353121 , -0.5604567 ,\n",
       "        -0.07243975, -0.6007716 , -0.02999151, -0.05798867,  0.01240289,\n",
       "        -0.04193108,  0.36179066, -0.14603154, -0.26972213, -0.00841324,\n",
       "        -0.0620893 ,  0.38127273, -0.05415433, -0.27676508,  0.04333663,\n",
       "         0.3045336 ,  0.08694378, -0.2438896 , -0.23424444, -0.2241262 ,\n",
       "        -0.30137593, -0.04570854,  0.06909383,  0.16819808, -0.40017912,\n",
       "         0.14256419, -0.390098  , -0.08735001, -0.48472175,  0.18051715,\n",
       "        -0.02790376,  0.17813765,  0.38825122, -0.04271259,  0.28223062,\n",
       "        -0.0923301 , -0.74301624, -0.3303707 ,  0.05778801, -0.21409984,\n",
       "        -0.41708848, -0.08286348, -0.2786095 , -0.27249828, -0.08613958,\n",
       "         0.25586313,  0.21505857,  0.14507645,  0.3843889 , -0.02532068,\n",
       "         0.21329014, -0.34762934, -0.21937302,  0.03036869,  0.16314867,\n",
       "        -0.12146664,  0.06380132,  0.01118666, -0.16908336,  0.01002004,\n",
       "        -0.01441751, -0.4265283 , -0.10331761, -0.35421935,  0.32198152,\n",
       "         0.34152165, -0.04288762, -0.2290467 ,  0.42507976,  0.17489672,\n",
       "         0.29884738, -0.16895853,  0.12331837, -0.18274748,  0.26894605,\n",
       "        -0.14907974, -0.27845937,  0.39734566,  0.33844528, -0.0486064 ,\n",
       "        -0.05909911,  0.01550922, -0.3454777 ,  0.14627708,  0.14588785],\n",
       "       dtype=float32)]"
      ]
     },
     "execution_count": 25,
     "metadata": {},
     "output_type": "execute_result"
    }
   ],
   "source": [
    "X_train[:1]"
   ]
  },
  {
   "cell_type": "markdown",
   "id": "76cd1851",
   "metadata": {
    "papermill": {
     "duration": 0.012382,
     "end_time": "2024-05-04T13:55:50.219418",
     "exception": false,
     "start_time": "2024-05-04T13:55:50.207036",
     "status": "completed"
    },
    "tags": []
   },
   "source": [
    "## **Random Forest Classifier**"
   ]
  },
  {
   "cell_type": "code",
   "execution_count": 26,
   "id": "6a52e47c",
   "metadata": {
    "execution": {
     "iopub.execute_input": "2024-05-04T13:55:50.248617Z",
     "iopub.status.busy": "2024-05-04T13:55:50.248196Z",
     "iopub.status.idle": "2024-05-04T13:55:51.890833Z",
     "shell.execute_reply": "2024-05-04T13:55:51.889634Z"
    },
    "papermill": {
     "duration": 1.659685,
     "end_time": "2024-05-04T13:55:51.893349",
     "exception": false,
     "start_time": "2024-05-04T13:55:50.233664",
     "status": "completed"
    },
    "tags": []
   },
   "outputs": [
    {
     "data": {
      "text/html": [
       "<style>#sk-container-id-1 {color: black;background-color: white;}#sk-container-id-1 pre{padding: 0;}#sk-container-id-1 div.sk-toggleable {background-color: white;}#sk-container-id-1 label.sk-toggleable__label {cursor: pointer;display: block;width: 100%;margin-bottom: 0;padding: 0.3em;box-sizing: border-box;text-align: center;}#sk-container-id-1 label.sk-toggleable__label-arrow:before {content: \"▸\";float: left;margin-right: 0.25em;color: #696969;}#sk-container-id-1 label.sk-toggleable__label-arrow:hover:before {color: black;}#sk-container-id-1 div.sk-estimator:hover label.sk-toggleable__label-arrow:before {color: black;}#sk-container-id-1 div.sk-toggleable__content {max-height: 0;max-width: 0;overflow: hidden;text-align: left;background-color: #f0f8ff;}#sk-container-id-1 div.sk-toggleable__content pre {margin: 0.2em;color: black;border-radius: 0.25em;background-color: #f0f8ff;}#sk-container-id-1 input.sk-toggleable__control:checked~div.sk-toggleable__content {max-height: 200px;max-width: 100%;overflow: auto;}#sk-container-id-1 input.sk-toggleable__control:checked~label.sk-toggleable__label-arrow:before {content: \"▾\";}#sk-container-id-1 div.sk-estimator input.sk-toggleable__control:checked~label.sk-toggleable__label {background-color: #d4ebff;}#sk-container-id-1 div.sk-label input.sk-toggleable__control:checked~label.sk-toggleable__label {background-color: #d4ebff;}#sk-container-id-1 input.sk-hidden--visually {border: 0;clip: rect(1px 1px 1px 1px);clip: rect(1px, 1px, 1px, 1px);height: 1px;margin: -1px;overflow: hidden;padding: 0;position: absolute;width: 1px;}#sk-container-id-1 div.sk-estimator {font-family: monospace;background-color: #f0f8ff;border: 1px dotted black;border-radius: 0.25em;box-sizing: border-box;margin-bottom: 0.5em;}#sk-container-id-1 div.sk-estimator:hover {background-color: #d4ebff;}#sk-container-id-1 div.sk-parallel-item::after {content: \"\";width: 100%;border-bottom: 1px solid gray;flex-grow: 1;}#sk-container-id-1 div.sk-label:hover label.sk-toggleable__label {background-color: #d4ebff;}#sk-container-id-1 div.sk-serial::before {content: \"\";position: absolute;border-left: 1px solid gray;box-sizing: border-box;top: 0;bottom: 0;left: 50%;z-index: 0;}#sk-container-id-1 div.sk-serial {display: flex;flex-direction: column;align-items: center;background-color: white;padding-right: 0.2em;padding-left: 0.2em;position: relative;}#sk-container-id-1 div.sk-item {position: relative;z-index: 1;}#sk-container-id-1 div.sk-parallel {display: flex;align-items: stretch;justify-content: center;background-color: white;position: relative;}#sk-container-id-1 div.sk-item::before, #sk-container-id-1 div.sk-parallel-item::before {content: \"\";position: absolute;border-left: 1px solid gray;box-sizing: border-box;top: 0;bottom: 0;left: 50%;z-index: -1;}#sk-container-id-1 div.sk-parallel-item {display: flex;flex-direction: column;z-index: 1;position: relative;background-color: white;}#sk-container-id-1 div.sk-parallel-item:first-child::after {align-self: flex-end;width: 50%;}#sk-container-id-1 div.sk-parallel-item:last-child::after {align-self: flex-start;width: 50%;}#sk-container-id-1 div.sk-parallel-item:only-child::after {width: 0;}#sk-container-id-1 div.sk-dashed-wrapped {border: 1px dashed gray;margin: 0 0.4em 0.5em 0.4em;box-sizing: border-box;padding-bottom: 0.4em;background-color: white;}#sk-container-id-1 div.sk-label label {font-family: monospace;font-weight: bold;display: inline-block;line-height: 1.2em;}#sk-container-id-1 div.sk-label-container {text-align: center;}#sk-container-id-1 div.sk-container {/* jupyter's `normalize.less` sets `[hidden] { display: none; }` but bootstrap.min.css set `[hidden] { display: none !important; }` so we also need the `!important` here to be able to override the default hidden behavior on the sphinx rendered scikit-learn.org. See: https://github.com/scikit-learn/scikit-learn/issues/21755 */display: inline-block !important;position: relative;}#sk-container-id-1 div.sk-text-repr-fallback {display: none;}</style><div id=\"sk-container-id-1\" class=\"sk-top-container\"><div class=\"sk-text-repr-fallback\"><pre>RandomForestClassifier(random_state=42)</pre><b>In a Jupyter environment, please rerun this cell to show the HTML representation or trust the notebook. <br />On GitHub, the HTML representation is unable to render, please try loading this page with nbviewer.org.</b></div><div class=\"sk-container\" hidden><div class=\"sk-item\"><div class=\"sk-estimator sk-toggleable\"><input class=\"sk-toggleable__control sk-hidden--visually\" id=\"sk-estimator-id-1\" type=\"checkbox\" checked><label for=\"sk-estimator-id-1\" class=\"sk-toggleable__label sk-toggleable__label-arrow\">RandomForestClassifier</label><div class=\"sk-toggleable__content\"><pre>RandomForestClassifier(random_state=42)</pre></div></div></div></div></div>"
      ],
      "text/plain": [
       "RandomForestClassifier(random_state=42)"
      ]
     },
     "execution_count": 26,
     "metadata": {},
     "output_type": "execute_result"
    }
   ],
   "source": [
    "\n",
    "rf_classifier = RandomForestClassifier(random_state = 42)\n",
    "\n",
    "rf_classifier.fit(X_train, y_train)"
   ]
  },
  {
   "cell_type": "code",
   "execution_count": 27,
   "id": "c7c8bf5b",
   "metadata": {
    "execution": {
     "iopub.execute_input": "2024-05-04T13:55:51.922685Z",
     "iopub.status.busy": "2024-05-04T13:55:51.922101Z",
     "iopub.status.idle": "2024-05-04T13:55:51.948301Z",
     "shell.execute_reply": "2024-05-04T13:55:51.946672Z"
    },
    "papermill": {
     "duration": 0.044828,
     "end_time": "2024-05-04T13:55:51.951956",
     "exception": false,
     "start_time": "2024-05-04T13:55:51.907128",
     "status": "completed"
    },
    "tags": []
   },
   "outputs": [],
   "source": [
    "y_pred = rf_classifier.predict(X_test)"
   ]
  },
  {
   "cell_type": "code",
   "execution_count": 28,
   "id": "1a3e661d",
   "metadata": {
    "execution": {
     "iopub.execute_input": "2024-05-04T13:55:51.986428Z",
     "iopub.status.busy": "2024-05-04T13:55:51.986018Z",
     "iopub.status.idle": "2024-05-04T13:55:51.995207Z",
     "shell.execute_reply": "2024-05-04T13:55:51.994318Z"
    },
    "papermill": {
     "duration": 0.033405,
     "end_time": "2024-05-04T13:55:51.999749",
     "exception": false,
     "start_time": "2024-05-04T13:55:51.966344",
     "status": "completed"
    },
    "tags": []
   },
   "outputs": [
    {
     "name": "stdout",
     "output_type": "stream",
     "text": [
      "0.5865168539325842\n"
     ]
    }
   ],
   "source": [
    "from sklearn.metrics import accuracy_score\n",
    "\n",
    "accuracy = accuracy_score(y_test, y_pred)\n",
    "print(accuracy)"
   ]
  },
  {
   "cell_type": "markdown",
   "id": "7cb1adb3",
   "metadata": {
    "papermill": {
     "duration": 0.013018,
     "end_time": "2024-05-04T13:55:52.032446",
     "exception": false,
     "start_time": "2024-05-04T13:55:52.019428",
     "status": "completed"
    },
    "tags": []
   },
   "source": [
    "## **Check for any news classification**"
   ]
  },
  {
   "cell_type": "code",
   "execution_count": 29,
   "id": "b51f3895",
   "metadata": {
    "execution": {
     "iopub.execute_input": "2024-05-04T13:55:52.061461Z",
     "iopub.status.busy": "2024-05-04T13:55:52.061026Z",
     "iopub.status.idle": "2024-05-04T13:55:52.070562Z",
     "shell.execute_reply": "2024-05-04T13:55:52.069267Z"
    },
    "papermill": {
     "duration": 0.027285,
     "end_time": "2024-05-04T13:55:52.073064",
     "exception": false,
     "start_time": "2024-05-04T13:55:52.045779",
     "status": "completed"
    },
    "tags": []
   },
   "outputs": [],
   "source": [
    "def label_model(data) : \n",
    "    #x = list(data)\n",
    "    #lower case\n",
    "    data = data.lower()\n",
    "    #tokenize the words\n",
    "    tokens = word_tokenize(data)\n",
    "    #stopwords removal\n",
    "    tokens = [w for w in tokens if w not in sw]\n",
    "    #punctutation removal\n",
    "    #tokens = [\"\".join(punc.tokenize(word)) for word in tokens if len(punc.tokenize(word)) > 0]\n",
    "    tokens = \" \".join(tokens)\n",
    "    tokens = punc.tokenize(tokens)\n",
    "    stemmed_tokens = [porter.stem(word) for word in tokens]\n",
    "    #tokens = [lancaster.stem(t) for t in tokens]\n",
    "    #joining back the words\n",
    "    #clean_tokens = \" \".join(stemmed_tokens)\n",
    "    sentences = [model.wv[word] for word in stemmed_tokens if word in model.wv]\n",
    "    if sentences :\n",
    "        input_embedding = np.mean(sentences, axis = 0)\n",
    "    return input_embedding\n",
    "\n",
    "    \n",
    "\n",
    "def machine_model(x) :\n",
    "    embedded_input = label_model(x)\n",
    "    X = rf_classifier.predict([embedded_input])\n",
    "    return X\n",
    "    "
   ]
  },
  {
   "cell_type": "code",
   "execution_count": 30,
   "id": "8ef9ad03",
   "metadata": {
    "execution": {
     "iopub.execute_input": "2024-05-04T13:55:52.102561Z",
     "iopub.status.busy": "2024-05-04T13:55:52.102157Z",
     "iopub.status.idle": "2024-05-04T13:55:52.121130Z",
     "shell.execute_reply": "2024-05-04T13:55:52.119878Z"
    },
    "papermill": {
     "duration": 0.036959,
     "end_time": "2024-05-04T13:55:52.123662",
     "exception": false,
     "start_time": "2024-05-04T13:55:52.086703",
     "status": "completed"
    },
    "tags": []
   },
   "outputs": [
    {
     "data": {
      "text/plain": [
       "array(['business'], dtype=object)"
      ]
     },
     "execution_count": 30,
     "metadata": {},
     "output_type": "execute_result"
    }
   ],
   "source": [
    "machine_model(\"Google Cloud, in recent times, has been taking multiple steps to establish itself as a pro-Web3 entity. Now, Solana Labs has joined forces with Google Cloud. Through this partnership, the team behind the eco-friendly green blockchain will use the capabilities of Google Cloud to offer its own blockchain-based game development suit to developers. With this, Solana Labs wish to bring the blockchain technology on the forefront of gaming development.\")"
   ]
  }
 ],
 "metadata": {
  "kaggle": {
   "accelerator": "none",
   "dataSources": [
    {
     "datasetId": 4731581,
     "sourceId": 8028092,
     "sourceType": "datasetVersion"
    }
   ],
   "dockerImageVersionId": 30684,
   "isGpuEnabled": false,
   "isInternetEnabled": true,
   "language": "python",
   "sourceType": "notebook"
  },
  "kernelspec": {
   "display_name": "Python 3",
   "language": "python",
   "name": "python3"
  },
  "language_info": {
   "codemirror_mode": {
    "name": "ipython",
    "version": 3
   },
   "file_extension": ".py",
   "mimetype": "text/x-python",
   "name": "python",
   "nbconvert_exporter": "python",
   "pygments_lexer": "ipython3",
   "version": "3.10.13"
  },
  "papermill": {
   "default_parameters": {},
   "duration": 99.83753,
   "end_time": "2024-05-04T13:55:53.264087",
   "environment_variables": {},
   "exception": null,
   "input_path": "__notebook__.ipynb",
   "output_path": "__notebook__.ipynb",
   "parameters": {},
   "start_time": "2024-05-04T13:54:13.426557",
   "version": "2.5.0"
  }
 },
 "nbformat": 4,
 "nbformat_minor": 5
}
